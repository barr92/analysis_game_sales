{
 "cells": [
  {
   "cell_type": "markdown",
   "metadata": {},
   "source": [
    "# Video Game Store Analysis\n",
    "\n",
    "The video game store Ice sells video games across the world, they collect date on each game such as the total sales per region and user reviews. Our aim here is to identify pattens that determine whether a game has succeeded after it's release and whether there has been enough sales. The analysis will help Ice games to modify their marketing and sales tactics around games consoles as well as helping the procurement teams decide which games and consoles bring in the most sales.\n",
    "\n",
    "Throughout the analysis we will test the following hypothesis:\n",
    "- Average user ratings of the Xbox One and PC platforms are the same.\n",
    "- Average user ratings for the Action and Sports genres are different.\n",
    "\n",
    "## Objective\n",
    "\n",
    "The objective of this data analysis project is to gain a deeper understanding of the factors that contribute to the success of video games and their sales performance. By analyzing the available data, we aim to answer crucial questions such as: \n",
    "- What characteristics of a game make it more likely to succeed? \n",
    "- Which platforms are leading in sales and which ones are declining? \n",
    "- How do user and professional reviews impact sales? \n",
    "- Which genres are the most profitable?\n",
    "\n",
    "Through our analysis, we will explore various aspects of the data, including historical game sales, user and expert reviews, genres, platforms, and ratings. By uncovering key insights, we will enable Ice to make data-driven decisions, such as identifying potential big winners, planning targeted advertising campaigns, and optimizing their game and console procurement strategies.\n",
    "\n",
    "Ultimately, the goal of this project is to empower Ice with actionable insights that will enhance their understanding of the video game market and enable them to make informed decisions to maximize their sales and profitability. By leveraging the power of data analysis, we will help Ice stay ahead in the dynamic and competitive video game industry."
   ]
  },
  {
   "cell_type": "code",
   "execution_count": 1,
   "metadata": {},
   "outputs": [],
   "source": [
    "# importing relevant libraries\n",
    "import pandas as pd\n",
    "import numpy as np\n",
    "import matplotlib.pyplot as plt\n",
    "import scipy.stats as stats\n",
    "import seaborn as sns\n",
    "import markdown as m"
   ]
  },
  {
   "cell_type": "code",
   "execution_count": 2,
   "metadata": {},
   "outputs": [],
   "source": [
    "# reading in the data\n",
    "df = pd.read_csv(\"/datasets/games.csv\")"
   ]
  },
  {
   "cell_type": "markdown",
   "metadata": {},
   "source": [
    "# Data Preparation\n",
    "\n",
    "Get a summary of the data and understand first what we are looking at and if there are any errors and missing values."
   ]
  },
  {
   "cell_type": "code",
   "execution_count": 3,
   "metadata": {},
   "outputs": [
    {
     "data": {
      "text/html": [
       "<div>\n",
       "<style scoped>\n",
       "    .dataframe tbody tr th:only-of-type {\n",
       "        vertical-align: middle;\n",
       "    }\n",
       "\n",
       "    .dataframe tbody tr th {\n",
       "        vertical-align: top;\n",
       "    }\n",
       "\n",
       "    .dataframe thead th {\n",
       "        text-align: right;\n",
       "    }\n",
       "</style>\n",
       "<table border=\"1\" class=\"dataframe\">\n",
       "  <thead>\n",
       "    <tr style=\"text-align: right;\">\n",
       "      <th></th>\n",
       "      <th>Name</th>\n",
       "      <th>Platform</th>\n",
       "      <th>Year_of_Release</th>\n",
       "      <th>Genre</th>\n",
       "      <th>NA_sales</th>\n",
       "      <th>EU_sales</th>\n",
       "      <th>JP_sales</th>\n",
       "      <th>Other_sales</th>\n",
       "      <th>Critic_Score</th>\n",
       "      <th>User_Score</th>\n",
       "      <th>Rating</th>\n",
       "    </tr>\n",
       "  </thead>\n",
       "  <tbody>\n",
       "    <tr>\n",
       "      <th>0</th>\n",
       "      <td>Wii Sports</td>\n",
       "      <td>Wii</td>\n",
       "      <td>2006.0</td>\n",
       "      <td>Sports</td>\n",
       "      <td>41.36</td>\n",
       "      <td>28.96</td>\n",
       "      <td>3.77</td>\n",
       "      <td>8.45</td>\n",
       "      <td>76.0</td>\n",
       "      <td>8</td>\n",
       "      <td>E</td>\n",
       "    </tr>\n",
       "    <tr>\n",
       "      <th>1</th>\n",
       "      <td>Super Mario Bros.</td>\n",
       "      <td>NES</td>\n",
       "      <td>1985.0</td>\n",
       "      <td>Platform</td>\n",
       "      <td>29.08</td>\n",
       "      <td>3.58</td>\n",
       "      <td>6.81</td>\n",
       "      <td>0.77</td>\n",
       "      <td>NaN</td>\n",
       "      <td>NaN</td>\n",
       "      <td>NaN</td>\n",
       "    </tr>\n",
       "    <tr>\n",
       "      <th>2</th>\n",
       "      <td>Mario Kart Wii</td>\n",
       "      <td>Wii</td>\n",
       "      <td>2008.0</td>\n",
       "      <td>Racing</td>\n",
       "      <td>15.68</td>\n",
       "      <td>12.76</td>\n",
       "      <td>3.79</td>\n",
       "      <td>3.29</td>\n",
       "      <td>82.0</td>\n",
       "      <td>8.3</td>\n",
       "      <td>E</td>\n",
       "    </tr>\n",
       "    <tr>\n",
       "      <th>3</th>\n",
       "      <td>Wii Sports Resort</td>\n",
       "      <td>Wii</td>\n",
       "      <td>2009.0</td>\n",
       "      <td>Sports</td>\n",
       "      <td>15.61</td>\n",
       "      <td>10.93</td>\n",
       "      <td>3.28</td>\n",
       "      <td>2.95</td>\n",
       "      <td>80.0</td>\n",
       "      <td>8</td>\n",
       "      <td>E</td>\n",
       "    </tr>\n",
       "    <tr>\n",
       "      <th>4</th>\n",
       "      <td>Pokemon Red/Pokemon Blue</td>\n",
       "      <td>GB</td>\n",
       "      <td>1996.0</td>\n",
       "      <td>Role-Playing</td>\n",
       "      <td>11.27</td>\n",
       "      <td>8.89</td>\n",
       "      <td>10.22</td>\n",
       "      <td>1.00</td>\n",
       "      <td>NaN</td>\n",
       "      <td>NaN</td>\n",
       "      <td>NaN</td>\n",
       "    </tr>\n",
       "  </tbody>\n",
       "</table>\n",
       "</div>"
      ],
      "text/plain": [
       "                       Name Platform  Year_of_Release         Genre  NA_sales  \\\n",
       "0                Wii Sports      Wii           2006.0        Sports     41.36   \n",
       "1         Super Mario Bros.      NES           1985.0      Platform     29.08   \n",
       "2            Mario Kart Wii      Wii           2008.0        Racing     15.68   \n",
       "3         Wii Sports Resort      Wii           2009.0        Sports     15.61   \n",
       "4  Pokemon Red/Pokemon Blue       GB           1996.0  Role-Playing     11.27   \n",
       "\n",
       "   EU_sales  JP_sales  Other_sales  Critic_Score User_Score Rating  \n",
       "0     28.96      3.77         8.45          76.0          8      E  \n",
       "1      3.58      6.81         0.77           NaN        NaN    NaN  \n",
       "2     12.76      3.79         3.29          82.0        8.3      E  \n",
       "3     10.93      3.28         2.95          80.0          8      E  \n",
       "4      8.89     10.22         1.00           NaN        NaN    NaN  "
      ]
     },
     "execution_count": 3,
     "metadata": {},
     "output_type": "execute_result"
    }
   ],
   "source": [
    "df.head()"
   ]
  },
  {
   "cell_type": "code",
   "execution_count": 4,
   "metadata": {},
   "outputs": [
    {
     "data": {
      "text/plain": [
       "Index(['Name', 'Platform', 'Year_of_Release', 'Genre', 'NA_sales', 'EU_sales',\n",
       "       'JP_sales', 'Other_sales', 'Critic_Score', 'User_Score', 'Rating'],\n",
       "      dtype='object')"
      ]
     },
     "execution_count": 4,
     "metadata": {},
     "output_type": "execute_result"
    }
   ],
   "source": [
    "df.columns"
   ]
  },
  {
   "cell_type": "code",
   "execution_count": 5,
   "metadata": {},
   "outputs": [],
   "source": [
    "df.columns = df.columns.str.lower()"
   ]
  },
  {
   "cell_type": "code",
   "execution_count": 6,
   "metadata": {},
   "outputs": [],
   "source": [
    "df = df.rename(columns={'year_of_release': 'release_year'})"
   ]
  },
  {
   "cell_type": "code",
   "execution_count": 7,
   "metadata": {},
   "outputs": [
    {
     "name": "stdout",
     "output_type": "stream",
     "text": [
      "<class 'pandas.core.frame.DataFrame'>\n",
      "RangeIndex: 16715 entries, 0 to 16714\n",
      "Data columns (total 11 columns):\n",
      " #   Column        Non-Null Count  Dtype  \n",
      "---  ------        --------------  -----  \n",
      " 0   name          16713 non-null  object \n",
      " 1   platform      16715 non-null  object \n",
      " 2   release_year  16446 non-null  float64\n",
      " 3   genre         16713 non-null  object \n",
      " 4   na_sales      16715 non-null  float64\n",
      " 5   eu_sales      16715 non-null  float64\n",
      " 6   jp_sales      16715 non-null  float64\n",
      " 7   other_sales   16715 non-null  float64\n",
      " 8   critic_score  8137 non-null   float64\n",
      " 9   user_score    10014 non-null  object \n",
      " 10  rating        9949 non-null   object \n",
      "dtypes: float64(6), object(5)\n",
      "memory usage: 1.4+ MB\n"
     ]
    }
   ],
   "source": [
    "df.info()"
   ]
  },
  {
   "cell_type": "code",
   "execution_count": 8,
   "metadata": {},
   "outputs": [
    {
     "data": {
      "text/html": [
       "<div>\n",
       "<style scoped>\n",
       "    .dataframe tbody tr th:only-of-type {\n",
       "        vertical-align: middle;\n",
       "    }\n",
       "\n",
       "    .dataframe tbody tr th {\n",
       "        vertical-align: top;\n",
       "    }\n",
       "\n",
       "    .dataframe thead th {\n",
       "        text-align: right;\n",
       "    }\n",
       "</style>\n",
       "<table border=\"1\" class=\"dataframe\">\n",
       "  <thead>\n",
       "    <tr style=\"text-align: right;\">\n",
       "      <th></th>\n",
       "      <th>name</th>\n",
       "      <th>platform</th>\n",
       "      <th>genre</th>\n",
       "      <th>user_score</th>\n",
       "      <th>rating</th>\n",
       "    </tr>\n",
       "  </thead>\n",
       "  <tbody>\n",
       "    <tr>\n",
       "      <th>count</th>\n",
       "      <td>16713</td>\n",
       "      <td>16715</td>\n",
       "      <td>16713</td>\n",
       "      <td>10014</td>\n",
       "      <td>9949</td>\n",
       "    </tr>\n",
       "    <tr>\n",
       "      <th>unique</th>\n",
       "      <td>11559</td>\n",
       "      <td>31</td>\n",
       "      <td>12</td>\n",
       "      <td>96</td>\n",
       "      <td>8</td>\n",
       "    </tr>\n",
       "    <tr>\n",
       "      <th>top</th>\n",
       "      <td>Need for Speed: Most Wanted</td>\n",
       "      <td>PS2</td>\n",
       "      <td>Action</td>\n",
       "      <td>tbd</td>\n",
       "      <td>E</td>\n",
       "    </tr>\n",
       "    <tr>\n",
       "      <th>freq</th>\n",
       "      <td>12</td>\n",
       "      <td>2161</td>\n",
       "      <td>3369</td>\n",
       "      <td>2424</td>\n",
       "      <td>3990</td>\n",
       "    </tr>\n",
       "  </tbody>\n",
       "</table>\n",
       "</div>"
      ],
      "text/plain": [
       "                               name platform   genre user_score rating\n",
       "count                         16713    16715   16713      10014   9949\n",
       "unique                        11559       31      12         96      8\n",
       "top     Need for Speed: Most Wanted      PS2  Action        tbd      E\n",
       "freq                             12     2161    3369       2424   3990"
      ]
     },
     "execution_count": 8,
     "metadata": {},
     "output_type": "execute_result"
    }
   ],
   "source": [
    "df.describe(include='object')"
   ]
  },
  {
   "cell_type": "code",
   "execution_count": 9,
   "metadata": {},
   "outputs": [
    {
     "data": {
      "text/html": [
       "<div>\n",
       "<style scoped>\n",
       "    .dataframe tbody tr th:only-of-type {\n",
       "        vertical-align: middle;\n",
       "    }\n",
       "\n",
       "    .dataframe tbody tr th {\n",
       "        vertical-align: top;\n",
       "    }\n",
       "\n",
       "    .dataframe thead th {\n",
       "        text-align: right;\n",
       "    }\n",
       "</style>\n",
       "<table border=\"1\" class=\"dataframe\">\n",
       "  <thead>\n",
       "    <tr style=\"text-align: right;\">\n",
       "      <th></th>\n",
       "      <th>release_year</th>\n",
       "      <th>na_sales</th>\n",
       "      <th>eu_sales</th>\n",
       "      <th>jp_sales</th>\n",
       "      <th>other_sales</th>\n",
       "      <th>critic_score</th>\n",
       "    </tr>\n",
       "  </thead>\n",
       "  <tbody>\n",
       "    <tr>\n",
       "      <th>count</th>\n",
       "      <td>16446.000000</td>\n",
       "      <td>16715.000000</td>\n",
       "      <td>16715.000000</td>\n",
       "      <td>16715.000000</td>\n",
       "      <td>16715.000000</td>\n",
       "      <td>8137.000000</td>\n",
       "    </tr>\n",
       "    <tr>\n",
       "      <th>mean</th>\n",
       "      <td>2006.484616</td>\n",
       "      <td>0.263377</td>\n",
       "      <td>0.145060</td>\n",
       "      <td>0.077617</td>\n",
       "      <td>0.047342</td>\n",
       "      <td>68.967679</td>\n",
       "    </tr>\n",
       "    <tr>\n",
       "      <th>std</th>\n",
       "      <td>5.877050</td>\n",
       "      <td>0.813604</td>\n",
       "      <td>0.503339</td>\n",
       "      <td>0.308853</td>\n",
       "      <td>0.186731</td>\n",
       "      <td>13.938165</td>\n",
       "    </tr>\n",
       "    <tr>\n",
       "      <th>min</th>\n",
       "      <td>1980.000000</td>\n",
       "      <td>0.000000</td>\n",
       "      <td>0.000000</td>\n",
       "      <td>0.000000</td>\n",
       "      <td>0.000000</td>\n",
       "      <td>13.000000</td>\n",
       "    </tr>\n",
       "    <tr>\n",
       "      <th>25%</th>\n",
       "      <td>2003.000000</td>\n",
       "      <td>0.000000</td>\n",
       "      <td>0.000000</td>\n",
       "      <td>0.000000</td>\n",
       "      <td>0.000000</td>\n",
       "      <td>60.000000</td>\n",
       "    </tr>\n",
       "    <tr>\n",
       "      <th>50%</th>\n",
       "      <td>2007.000000</td>\n",
       "      <td>0.080000</td>\n",
       "      <td>0.020000</td>\n",
       "      <td>0.000000</td>\n",
       "      <td>0.010000</td>\n",
       "      <td>71.000000</td>\n",
       "    </tr>\n",
       "    <tr>\n",
       "      <th>75%</th>\n",
       "      <td>2010.000000</td>\n",
       "      <td>0.240000</td>\n",
       "      <td>0.110000</td>\n",
       "      <td>0.040000</td>\n",
       "      <td>0.030000</td>\n",
       "      <td>79.000000</td>\n",
       "    </tr>\n",
       "    <tr>\n",
       "      <th>max</th>\n",
       "      <td>2016.000000</td>\n",
       "      <td>41.360000</td>\n",
       "      <td>28.960000</td>\n",
       "      <td>10.220000</td>\n",
       "      <td>10.570000</td>\n",
       "      <td>98.000000</td>\n",
       "    </tr>\n",
       "  </tbody>\n",
       "</table>\n",
       "</div>"
      ],
      "text/plain": [
       "       release_year      na_sales      eu_sales      jp_sales   other_sales  \\\n",
       "count  16446.000000  16715.000000  16715.000000  16715.000000  16715.000000   \n",
       "mean    2006.484616      0.263377      0.145060      0.077617      0.047342   \n",
       "std        5.877050      0.813604      0.503339      0.308853      0.186731   \n",
       "min     1980.000000      0.000000      0.000000      0.000000      0.000000   \n",
       "25%     2003.000000      0.000000      0.000000      0.000000      0.000000   \n",
       "50%     2007.000000      0.080000      0.020000      0.000000      0.010000   \n",
       "75%     2010.000000      0.240000      0.110000      0.040000      0.030000   \n",
       "max     2016.000000     41.360000     28.960000     10.220000     10.570000   \n",
       "\n",
       "       critic_score  \n",
       "count   8137.000000  \n",
       "mean      68.967679  \n",
       "std       13.938165  \n",
       "min       13.000000  \n",
       "25%       60.000000  \n",
       "50%       71.000000  \n",
       "75%       79.000000  \n",
       "max       98.000000  "
      ]
     },
     "execution_count": 9,
     "metadata": {},
     "output_type": "execute_result"
    }
   ],
   "source": [
    "df.describe()"
   ]
  },
  {
   "cell_type": "markdown",
   "metadata": {},
   "source": [
    "The majority of the scores and rating columns are missing there are other values in name, release_year and genre that are missing. Now we will observe the first three columns"
   ]
  },
  {
   "cell_type": "markdown",
   "metadata": {},
   "source": [
    "## Missing Values & Fixing"
   ]
  },
  {
   "cell_type": "code",
   "execution_count": 10,
   "metadata": {},
   "outputs": [
    {
     "data": {
      "text/plain": [
       "name            0.000120\n",
       "platform        0.000000\n",
       "release_year    0.016093\n",
       "genre           0.000120\n",
       "na_sales        0.000000\n",
       "eu_sales        0.000000\n",
       "jp_sales        0.000000\n",
       "other_sales     0.000000\n",
       "critic_score    0.513192\n",
       "user_score      0.400897\n",
       "rating          0.404786\n",
       "dtype: float64"
      ]
     },
     "execution_count": 10,
     "metadata": {},
     "output_type": "execute_result"
    }
   ],
   "source": [
    "df.isna().mean()"
   ]
  },
  {
   "cell_type": "markdown",
   "metadata": {},
   "source": [
    "### Names and genres"
   ]
  },
  {
   "cell_type": "code",
   "execution_count": 11,
   "metadata": {},
   "outputs": [
    {
     "data": {
      "text/html": [
       "<div>\n",
       "<style scoped>\n",
       "    .dataframe tbody tr th:only-of-type {\n",
       "        vertical-align: middle;\n",
       "    }\n",
       "\n",
       "    .dataframe tbody tr th {\n",
       "        vertical-align: top;\n",
       "    }\n",
       "\n",
       "    .dataframe thead th {\n",
       "        text-align: right;\n",
       "    }\n",
       "</style>\n",
       "<table border=\"1\" class=\"dataframe\">\n",
       "  <thead>\n",
       "    <tr style=\"text-align: right;\">\n",
       "      <th></th>\n",
       "      <th>name</th>\n",
       "      <th>platform</th>\n",
       "      <th>release_year</th>\n",
       "      <th>genre</th>\n",
       "      <th>na_sales</th>\n",
       "      <th>eu_sales</th>\n",
       "      <th>jp_sales</th>\n",
       "      <th>other_sales</th>\n",
       "      <th>critic_score</th>\n",
       "      <th>user_score</th>\n",
       "      <th>rating</th>\n",
       "    </tr>\n",
       "  </thead>\n",
       "  <tbody>\n",
       "    <tr>\n",
       "      <th>253</th>\n",
       "      <td>Need for Speed: Most Wanted</td>\n",
       "      <td>PS2</td>\n",
       "      <td>2005.0</td>\n",
       "      <td>Racing</td>\n",
       "      <td>2.03</td>\n",
       "      <td>1.79</td>\n",
       "      <td>0.08</td>\n",
       "      <td>0.47</td>\n",
       "      <td>82.0</td>\n",
       "      <td>9.1</td>\n",
       "      <td>T</td>\n",
       "    </tr>\n",
       "    <tr>\n",
       "      <th>523</th>\n",
       "      <td>Need for Speed: Most Wanted</td>\n",
       "      <td>PS3</td>\n",
       "      <td>2012.0</td>\n",
       "      <td>Racing</td>\n",
       "      <td>0.71</td>\n",
       "      <td>1.46</td>\n",
       "      <td>0.06</td>\n",
       "      <td>0.58</td>\n",
       "      <td>NaN</td>\n",
       "      <td>NaN</td>\n",
       "      <td>NaN</td>\n",
       "    </tr>\n",
       "    <tr>\n",
       "      <th>1190</th>\n",
       "      <td>Need for Speed: Most Wanted</td>\n",
       "      <td>X360</td>\n",
       "      <td>2012.0</td>\n",
       "      <td>Racing</td>\n",
       "      <td>0.62</td>\n",
       "      <td>0.78</td>\n",
       "      <td>0.01</td>\n",
       "      <td>0.15</td>\n",
       "      <td>83.0</td>\n",
       "      <td>8.5</td>\n",
       "      <td>T</td>\n",
       "    </tr>\n",
       "    <tr>\n",
       "      <th>1591</th>\n",
       "      <td>Need for Speed: Most Wanted</td>\n",
       "      <td>X360</td>\n",
       "      <td>2005.0</td>\n",
       "      <td>Racing</td>\n",
       "      <td>1.00</td>\n",
       "      <td>0.13</td>\n",
       "      <td>0.02</td>\n",
       "      <td>0.10</td>\n",
       "      <td>83.0</td>\n",
       "      <td>8.5</td>\n",
       "      <td>T</td>\n",
       "    </tr>\n",
       "    <tr>\n",
       "      <th>1998</th>\n",
       "      <td>Need for Speed: Most Wanted</td>\n",
       "      <td>XB</td>\n",
       "      <td>2005.0</td>\n",
       "      <td>Racing</td>\n",
       "      <td>0.53</td>\n",
       "      <td>0.46</td>\n",
       "      <td>0.00</td>\n",
       "      <td>0.05</td>\n",
       "      <td>83.0</td>\n",
       "      <td>8.8</td>\n",
       "      <td>T</td>\n",
       "    </tr>\n",
       "  </tbody>\n",
       "</table>\n",
       "</div>"
      ],
      "text/plain": [
       "                             name platform  release_year   genre  na_sales  \\\n",
       "253   Need for Speed: Most Wanted      PS2        2005.0  Racing      2.03   \n",
       "523   Need for Speed: Most Wanted      PS3        2012.0  Racing      0.71   \n",
       "1190  Need for Speed: Most Wanted     X360        2012.0  Racing      0.62   \n",
       "1591  Need for Speed: Most Wanted     X360        2005.0  Racing      1.00   \n",
       "1998  Need for Speed: Most Wanted       XB        2005.0  Racing      0.53   \n",
       "\n",
       "      eu_sales  jp_sales  other_sales  critic_score user_score rating  \n",
       "253       1.79      0.08         0.47          82.0        9.1      T  \n",
       "523       1.46      0.06         0.58           NaN        NaN    NaN  \n",
       "1190      0.78      0.01         0.15          83.0        8.5      T  \n",
       "1591      0.13      0.02         0.10          83.0        8.5      T  \n",
       "1998      0.46      0.00         0.05          83.0        8.8      T  "
      ]
     },
     "execution_count": 11,
     "metadata": {},
     "output_type": "execute_result"
    }
   ],
   "source": [
    "top_game = df[df.name == 'Need for Speed: Most Wanted']\n",
    "top_game.head(5)"
   ]
  },
  {
   "cell_type": "code",
   "execution_count": 12,
   "metadata": {},
   "outputs": [
    {
     "data": {
      "text/plain": [
       "array(['PS2', 'PS3', 'X360', 'XB', 'PSV', 'GC', 'PC', 'WiiU', 'DS', 'GBA'],\n",
       "      dtype=object)"
      ]
     },
     "execution_count": 12,
     "metadata": {},
     "output_type": "execute_result"
    }
   ],
   "source": [
    "top_game['platform'].unique()"
   ]
  },
  {
   "cell_type": "code",
   "execution_count": 13,
   "metadata": {},
   "outputs": [
    {
     "data": {
      "text/html": [
       "<div>\n",
       "<style scoped>\n",
       "    .dataframe tbody tr th:only-of-type {\n",
       "        vertical-align: middle;\n",
       "    }\n",
       "\n",
       "    .dataframe tbody tr th {\n",
       "        vertical-align: top;\n",
       "    }\n",
       "\n",
       "    .dataframe thead th {\n",
       "        text-align: right;\n",
       "    }\n",
       "</style>\n",
       "<table border=\"1\" class=\"dataframe\">\n",
       "  <thead>\n",
       "    <tr style=\"text-align: right;\">\n",
       "      <th></th>\n",
       "      <th>name</th>\n",
       "      <th>platform</th>\n",
       "      <th>release_year</th>\n",
       "      <th>genre</th>\n",
       "      <th>na_sales</th>\n",
       "      <th>eu_sales</th>\n",
       "      <th>jp_sales</th>\n",
       "      <th>other_sales</th>\n",
       "      <th>critic_score</th>\n",
       "      <th>user_score</th>\n",
       "      <th>rating</th>\n",
       "    </tr>\n",
       "  </thead>\n",
       "  <tbody>\n",
       "    <tr>\n",
       "      <th>659</th>\n",
       "      <td>NaN</td>\n",
       "      <td>GEN</td>\n",
       "      <td>1993.0</td>\n",
       "      <td>NaN</td>\n",
       "      <td>1.78</td>\n",
       "      <td>0.53</td>\n",
       "      <td>0.00</td>\n",
       "      <td>0.08</td>\n",
       "      <td>NaN</td>\n",
       "      <td>NaN</td>\n",
       "      <td>NaN</td>\n",
       "    </tr>\n",
       "    <tr>\n",
       "      <th>14244</th>\n",
       "      <td>NaN</td>\n",
       "      <td>GEN</td>\n",
       "      <td>1993.0</td>\n",
       "      <td>NaN</td>\n",
       "      <td>0.00</td>\n",
       "      <td>0.00</td>\n",
       "      <td>0.03</td>\n",
       "      <td>0.00</td>\n",
       "      <td>NaN</td>\n",
       "      <td>NaN</td>\n",
       "      <td>NaN</td>\n",
       "    </tr>\n",
       "  </tbody>\n",
       "</table>\n",
       "</div>"
      ],
      "text/plain": [
       "      name platform  release_year genre  na_sales  eu_sales  jp_sales  \\\n",
       "659    NaN      GEN        1993.0   NaN      1.78      0.53      0.00   \n",
       "14244  NaN      GEN        1993.0   NaN      0.00      0.00      0.03   \n",
       "\n",
       "       other_sales  critic_score user_score rating  \n",
       "659           0.08           NaN        NaN    NaN  \n",
       "14244         0.00           NaN        NaN    NaN  "
      ]
     },
     "execution_count": 13,
     "metadata": {},
     "output_type": "execute_result"
    }
   ],
   "source": [
    "#missing names\n",
    "missing_names = df[df['name'].isna()]\n",
    "missing_names"
   ]
  },
  {
   "cell_type": "code",
   "execution_count": 14,
   "metadata": {},
   "outputs": [
    {
     "data": {
      "text/html": [
       "<div>\n",
       "<style scoped>\n",
       "    .dataframe tbody tr th:only-of-type {\n",
       "        vertical-align: middle;\n",
       "    }\n",
       "\n",
       "    .dataframe tbody tr th {\n",
       "        vertical-align: top;\n",
       "    }\n",
       "\n",
       "    .dataframe thead th {\n",
       "        text-align: right;\n",
       "    }\n",
       "</style>\n",
       "<table border=\"1\" class=\"dataframe\">\n",
       "  <thead>\n",
       "    <tr style=\"text-align: right;\">\n",
       "      <th></th>\n",
       "      <th>name</th>\n",
       "      <th>platform</th>\n",
       "      <th>release_year</th>\n",
       "      <th>genre</th>\n",
       "      <th>na_sales</th>\n",
       "      <th>eu_sales</th>\n",
       "      <th>jp_sales</th>\n",
       "      <th>other_sales</th>\n",
       "      <th>critic_score</th>\n",
       "      <th>user_score</th>\n",
       "      <th>rating</th>\n",
       "    </tr>\n",
       "  </thead>\n",
       "  <tbody>\n",
       "    <tr>\n",
       "      <th>145</th>\n",
       "      <td>Sonic the Hedgehog 2</td>\n",
       "      <td>GEN</td>\n",
       "      <td>1992.0</td>\n",
       "      <td>Platform</td>\n",
       "      <td>4.47</td>\n",
       "      <td>1.20</td>\n",
       "      <td>0.16</td>\n",
       "      <td>0.19</td>\n",
       "      <td>NaN</td>\n",
       "      <td>NaN</td>\n",
       "      <td>NaN</td>\n",
       "    </tr>\n",
       "    <tr>\n",
       "      <th>257</th>\n",
       "      <td>Sonic the Hedgehog</td>\n",
       "      <td>GEN</td>\n",
       "      <td>1991.0</td>\n",
       "      <td>Platform</td>\n",
       "      <td>3.03</td>\n",
       "      <td>0.91</td>\n",
       "      <td>0.26</td>\n",
       "      <td>0.13</td>\n",
       "      <td>NaN</td>\n",
       "      <td>NaN</td>\n",
       "      <td>NaN</td>\n",
       "    </tr>\n",
       "    <tr>\n",
       "      <th>564</th>\n",
       "      <td>Mortal Kombat</td>\n",
       "      <td>GEN</td>\n",
       "      <td>1992.0</td>\n",
       "      <td>Fighting</td>\n",
       "      <td>1.95</td>\n",
       "      <td>0.63</td>\n",
       "      <td>0.00</td>\n",
       "      <td>0.09</td>\n",
       "      <td>NaN</td>\n",
       "      <td>NaN</td>\n",
       "      <td>NaN</td>\n",
       "    </tr>\n",
       "    <tr>\n",
       "      <th>588</th>\n",
       "      <td>Streets of Rage</td>\n",
       "      <td>GEN</td>\n",
       "      <td>1990.0</td>\n",
       "      <td>Action</td>\n",
       "      <td>1.86</td>\n",
       "      <td>0.55</td>\n",
       "      <td>0.11</td>\n",
       "      <td>0.08</td>\n",
       "      <td>NaN</td>\n",
       "      <td>NaN</td>\n",
       "      <td>NaN</td>\n",
       "    </tr>\n",
       "    <tr>\n",
       "      <th>659</th>\n",
       "      <td>NaN</td>\n",
       "      <td>GEN</td>\n",
       "      <td>1993.0</td>\n",
       "      <td>NaN</td>\n",
       "      <td>1.78</td>\n",
       "      <td>0.53</td>\n",
       "      <td>0.00</td>\n",
       "      <td>0.08</td>\n",
       "      <td>NaN</td>\n",
       "      <td>NaN</td>\n",
       "      <td>NaN</td>\n",
       "    </tr>\n",
       "  </tbody>\n",
       "</table>\n",
       "</div>"
      ],
      "text/plain": [
       "                     name platform  release_year     genre  na_sales  \\\n",
       "145  Sonic the Hedgehog 2      GEN        1992.0  Platform      4.47   \n",
       "257    Sonic the Hedgehog      GEN        1991.0  Platform      3.03   \n",
       "564         Mortal Kombat      GEN        1992.0  Fighting      1.95   \n",
       "588       Streets of Rage      GEN        1990.0    Action      1.86   \n",
       "659                   NaN      GEN        1993.0       NaN      1.78   \n",
       "\n",
       "     eu_sales  jp_sales  other_sales  critic_score user_score rating  \n",
       "145      1.20      0.16         0.19           NaN        NaN    NaN  \n",
       "257      0.91      0.26         0.13           NaN        NaN    NaN  \n",
       "564      0.63      0.00         0.09           NaN        NaN    NaN  \n",
       "588      0.55      0.11         0.08           NaN        NaN    NaN  \n",
       "659      0.53      0.00         0.08           NaN        NaN    NaN  "
      ]
     },
     "execution_count": 14,
     "metadata": {},
     "output_type": "execute_result"
    }
   ],
   "source": [
    "gen_platform = df[df['platform'] == 'GEN']\n",
    "gen_platform.head(5)"
   ]
  },
  {
   "cell_type": "markdown",
   "metadata": {},
   "source": [
    "#### Missing values notes\n",
    "\n",
    "Missing values in name are 1993 generation consoles, we have no idea what the games are or the genre. All we have is the console data and as there is no review data either will drop these two rows from the dataframe."
   ]
  },
  {
   "cell_type": "markdown",
   "metadata": {},
   "source": [
    "### Release year\n",
    "\n",
    "I rectified the release year column, allowing it to be used in our analysis. Since there was no option to fill in the data, it remained unpopulated."
   ]
  },
  {
   "cell_type": "code",
   "execution_count": 15,
   "metadata": {},
   "outputs": [],
   "source": [
    "release_year = df[df['release_year'].isna()]"
   ]
  },
  {
   "cell_type": "code",
   "execution_count": 16,
   "metadata": {},
   "outputs": [
    {
     "data": {
      "text/plain": [
       "269"
      ]
     },
     "execution_count": 16,
     "metadata": {},
     "output_type": "execute_result"
    }
   ],
   "source": [
    "df['release_year'].isna().sum()"
   ]
  },
  {
   "cell_type": "code",
   "execution_count": 17,
   "metadata": {},
   "outputs": [],
   "source": [
    "df['release_year'] = pd.to_numeric(df['release_year'], errors='coerce')"
   ]
  },
  {
   "cell_type": "code",
   "execution_count": 18,
   "metadata": {},
   "outputs": [
    {
     "data": {
      "text/plain": [
       "name            0.000120\n",
       "platform        0.000000\n",
       "release_year    0.016093\n",
       "genre           0.000120\n",
       "na_sales        0.000000\n",
       "eu_sales        0.000000\n",
       "jp_sales        0.000000\n",
       "other_sales     0.000000\n",
       "critic_score    0.513192\n",
       "user_score      0.400897\n",
       "rating          0.404786\n",
       "dtype: float64"
      ]
     },
     "execution_count": 18,
     "metadata": {},
     "output_type": "execute_result"
    }
   ],
   "source": [
    "# check updated figures\n",
    "df.isna().mean()"
   ]
  },
  {
   "cell_type": "markdown",
   "metadata": {},
   "source": [
    "### Scores and Ratings\n",
    "We will not fill in the missing values, but we will ensure that the values are numeric so that we can analysis the data properly."
   ]
  },
  {
   "cell_type": "code",
   "execution_count": 19,
   "metadata": {},
   "outputs": [],
   "source": [
    "scores_ratings = df[(df['critic_score'].isna()) & (df['user_score'].isna()) & df['rating'].isna()]\n",
    "user_scores = df[(df['user_score'].isna())]\n",
    "ratings = df[(df['rating'].isna())]\n",
    "critic_score = df[(df['critic_score'].isna())]"
   ]
  },
  {
   "cell_type": "code",
   "execution_count": 20,
   "metadata": {},
   "outputs": [
    {
     "data": {
      "text/html": [
       "<div>\n",
       "<style scoped>\n",
       "    .dataframe tbody tr th:only-of-type {\n",
       "        vertical-align: middle;\n",
       "    }\n",
       "\n",
       "    .dataframe tbody tr th {\n",
       "        vertical-align: top;\n",
       "    }\n",
       "\n",
       "    .dataframe thead th {\n",
       "        text-align: right;\n",
       "    }\n",
       "</style>\n",
       "<table border=\"1\" class=\"dataframe\">\n",
       "  <thead>\n",
       "    <tr style=\"text-align: right;\">\n",
       "      <th></th>\n",
       "      <th>name</th>\n",
       "      <th>platform</th>\n",
       "      <th>release_year</th>\n",
       "      <th>genre</th>\n",
       "      <th>na_sales</th>\n",
       "      <th>eu_sales</th>\n",
       "      <th>jp_sales</th>\n",
       "      <th>other_sales</th>\n",
       "      <th>critic_score</th>\n",
       "      <th>user_score</th>\n",
       "      <th>rating</th>\n",
       "    </tr>\n",
       "  </thead>\n",
       "  <tbody>\n",
       "    <tr>\n",
       "      <th>13928</th>\n",
       "      <td>Don Bradman Cricket 14</td>\n",
       "      <td>XOne</td>\n",
       "      <td>2015.0</td>\n",
       "      <td>Sports</td>\n",
       "      <td>0.00</td>\n",
       "      <td>0.04</td>\n",
       "      <td>0.00</td>\n",
       "      <td>0.00</td>\n",
       "      <td>NaN</td>\n",
       "      <td>NaN</td>\n",
       "      <td>NaN</td>\n",
       "    </tr>\n",
       "    <tr>\n",
       "      <th>7309</th>\n",
       "      <td>Nintendo Presents: Crossword Collection</td>\n",
       "      <td>DS</td>\n",
       "      <td>2009.0</td>\n",
       "      <td>Puzzle</td>\n",
       "      <td>0.00</td>\n",
       "      <td>0.19</td>\n",
       "      <td>0.00</td>\n",
       "      <td>0.02</td>\n",
       "      <td>NaN</td>\n",
       "      <td>NaN</td>\n",
       "      <td>NaN</td>\n",
       "    </tr>\n",
       "    <tr>\n",
       "      <th>4288</th>\n",
       "      <td>Phantasy Star Online Episode I &amp; II</td>\n",
       "      <td>GC</td>\n",
       "      <td>2002.0</td>\n",
       "      <td>Role-Playing</td>\n",
       "      <td>0.23</td>\n",
       "      <td>0.06</td>\n",
       "      <td>0.16</td>\n",
       "      <td>0.01</td>\n",
       "      <td>NaN</td>\n",
       "      <td>NaN</td>\n",
       "      <td>NaN</td>\n",
       "    </tr>\n",
       "    <tr>\n",
       "      <th>11706</th>\n",
       "      <td>Majin Tensei</td>\n",
       "      <td>SNES</td>\n",
       "      <td>1994.0</td>\n",
       "      <td>Role-Playing</td>\n",
       "      <td>0.00</td>\n",
       "      <td>0.00</td>\n",
       "      <td>0.08</td>\n",
       "      <td>0.00</td>\n",
       "      <td>NaN</td>\n",
       "      <td>NaN</td>\n",
       "      <td>NaN</td>\n",
       "    </tr>\n",
       "    <tr>\n",
       "      <th>5979</th>\n",
       "      <td>Atelier Iris 3: Grand Phantasm (US Sales)</td>\n",
       "      <td>PS2</td>\n",
       "      <td>2006.0</td>\n",
       "      <td>Role-Playing</td>\n",
       "      <td>0.14</td>\n",
       "      <td>0.11</td>\n",
       "      <td>0.00</td>\n",
       "      <td>0.04</td>\n",
       "      <td>NaN</td>\n",
       "      <td>NaN</td>\n",
       "      <td>NaN</td>\n",
       "    </tr>\n",
       "  </tbody>\n",
       "</table>\n",
       "</div>"
      ],
      "text/plain": [
       "                                            name platform  release_year  \\\n",
       "13928                     Don Bradman Cricket 14     XOne        2015.0   \n",
       "7309     Nintendo Presents: Crossword Collection       DS        2009.0   \n",
       "4288         Phantasy Star Online Episode I & II       GC        2002.0   \n",
       "11706                               Majin Tensei     SNES        1994.0   \n",
       "5979   Atelier Iris 3: Grand Phantasm (US Sales)      PS2        2006.0   \n",
       "\n",
       "              genre  na_sales  eu_sales  jp_sales  other_sales  critic_score  \\\n",
       "13928        Sports      0.00      0.04      0.00         0.00           NaN   \n",
       "7309         Puzzle      0.00      0.19      0.00         0.02           NaN   \n",
       "4288   Role-Playing      0.23      0.06      0.16         0.01           NaN   \n",
       "11706  Role-Playing      0.00      0.00      0.08         0.00           NaN   \n",
       "5979   Role-Playing      0.14      0.11      0.00         0.04           NaN   \n",
       "\n",
       "      user_score rating  \n",
       "13928        NaN    NaN  \n",
       "7309         NaN    NaN  \n",
       "4288         NaN    NaN  \n",
       "11706        NaN    NaN  \n",
       "5979         NaN    NaN  "
      ]
     },
     "execution_count": 20,
     "metadata": {},
     "output_type": "execute_result"
    }
   ],
   "source": [
    "user_scores.sample(5)"
   ]
  },
  {
   "cell_type": "code",
   "execution_count": 21,
   "metadata": {},
   "outputs": [
    {
     "data": {
      "text/html": [
       "<div>\n",
       "<style scoped>\n",
       "    .dataframe tbody tr th:only-of-type {\n",
       "        vertical-align: middle;\n",
       "    }\n",
       "\n",
       "    .dataframe tbody tr th {\n",
       "        vertical-align: top;\n",
       "    }\n",
       "\n",
       "    .dataframe thead th {\n",
       "        text-align: right;\n",
       "    }\n",
       "</style>\n",
       "<table border=\"1\" class=\"dataframe\">\n",
       "  <thead>\n",
       "    <tr style=\"text-align: right;\">\n",
       "      <th></th>\n",
       "      <th>name</th>\n",
       "      <th>platform</th>\n",
       "      <th>release_year</th>\n",
       "      <th>genre</th>\n",
       "      <th>na_sales</th>\n",
       "      <th>eu_sales</th>\n",
       "      <th>jp_sales</th>\n",
       "      <th>other_sales</th>\n",
       "      <th>critic_score</th>\n",
       "      <th>user_score</th>\n",
       "      <th>rating</th>\n",
       "    </tr>\n",
       "  </thead>\n",
       "  <tbody>\n",
       "    <tr>\n",
       "      <th>2510</th>\n",
       "      <td>Killer Instinct Gold</td>\n",
       "      <td>N64</td>\n",
       "      <td>1996.0</td>\n",
       "      <td>Fighting</td>\n",
       "      <td>0.61</td>\n",
       "      <td>0.19</td>\n",
       "      <td>0.00</td>\n",
       "      <td>0.01</td>\n",
       "      <td>NaN</td>\n",
       "      <td>NaN</td>\n",
       "      <td>NaN</td>\n",
       "    </tr>\n",
       "    <tr>\n",
       "      <th>13097</th>\n",
       "      <td>Summon Night X: Tears Crown</td>\n",
       "      <td>DS</td>\n",
       "      <td>2009.0</td>\n",
       "      <td>Role-Playing</td>\n",
       "      <td>0.00</td>\n",
       "      <td>0.00</td>\n",
       "      <td>0.05</td>\n",
       "      <td>0.00</td>\n",
       "      <td>NaN</td>\n",
       "      <td>NaN</td>\n",
       "      <td>NaN</td>\n",
       "    </tr>\n",
       "    <tr>\n",
       "      <th>400</th>\n",
       "      <td>The Legend of Zelda: Majora's Mask</td>\n",
       "      <td>N64</td>\n",
       "      <td>2000.0</td>\n",
       "      <td>Action</td>\n",
       "      <td>1.90</td>\n",
       "      <td>0.67</td>\n",
       "      <td>0.73</td>\n",
       "      <td>0.06</td>\n",
       "      <td>NaN</td>\n",
       "      <td>NaN</td>\n",
       "      <td>NaN</td>\n",
       "    </tr>\n",
       "    <tr>\n",
       "      <th>13216</th>\n",
       "      <td>Smart Kid's Party Fun Pak</td>\n",
       "      <td>DS</td>\n",
       "      <td>2008.0</td>\n",
       "      <td>Misc</td>\n",
       "      <td>0.05</td>\n",
       "      <td>0.00</td>\n",
       "      <td>0.00</td>\n",
       "      <td>0.00</td>\n",
       "      <td>NaN</td>\n",
       "      <td>tbd</td>\n",
       "      <td>NaN</td>\n",
       "    </tr>\n",
       "    <tr>\n",
       "      <th>7111</th>\n",
       "      <td>Jersey Devil</td>\n",
       "      <td>PS</td>\n",
       "      <td>1997.0</td>\n",
       "      <td>Platform</td>\n",
       "      <td>0.13</td>\n",
       "      <td>0.09</td>\n",
       "      <td>0.00</td>\n",
       "      <td>0.01</td>\n",
       "      <td>NaN</td>\n",
       "      <td>NaN</td>\n",
       "      <td>NaN</td>\n",
       "    </tr>\n",
       "  </tbody>\n",
       "</table>\n",
       "</div>"
      ],
      "text/plain": [
       "                                     name platform  release_year  \\\n",
       "2510                 Killer Instinct Gold      N64        1996.0   \n",
       "13097         Summon Night X: Tears Crown       DS        2009.0   \n",
       "400    The Legend of Zelda: Majora's Mask      N64        2000.0   \n",
       "13216           Smart Kid's Party Fun Pak       DS        2008.0   \n",
       "7111                         Jersey Devil       PS        1997.0   \n",
       "\n",
       "              genre  na_sales  eu_sales  jp_sales  other_sales  critic_score  \\\n",
       "2510       Fighting      0.61      0.19      0.00         0.01           NaN   \n",
       "13097  Role-Playing      0.00      0.00      0.05         0.00           NaN   \n",
       "400          Action      1.90      0.67      0.73         0.06           NaN   \n",
       "13216          Misc      0.05      0.00      0.00         0.00           NaN   \n",
       "7111       Platform      0.13      0.09      0.00         0.01           NaN   \n",
       "\n",
       "      user_score rating  \n",
       "2510         NaN    NaN  \n",
       "13097        NaN    NaN  \n",
       "400          NaN    NaN  \n",
       "13216        tbd    NaN  \n",
       "7111         NaN    NaN  "
      ]
     },
     "execution_count": 21,
     "metadata": {},
     "output_type": "execute_result"
    }
   ],
   "source": [
    "ratings.sample(5)"
   ]
  },
  {
   "cell_type": "code",
   "execution_count": 22,
   "metadata": {},
   "outputs": [
    {
     "data": {
      "text/html": [
       "<div>\n",
       "<style scoped>\n",
       "    .dataframe tbody tr th:only-of-type {\n",
       "        vertical-align: middle;\n",
       "    }\n",
       "\n",
       "    .dataframe tbody tr th {\n",
       "        vertical-align: top;\n",
       "    }\n",
       "\n",
       "    .dataframe thead th {\n",
       "        text-align: right;\n",
       "    }\n",
       "</style>\n",
       "<table border=\"1\" class=\"dataframe\">\n",
       "  <thead>\n",
       "    <tr style=\"text-align: right;\">\n",
       "      <th></th>\n",
       "      <th>name</th>\n",
       "      <th>platform</th>\n",
       "      <th>release_year</th>\n",
       "      <th>genre</th>\n",
       "      <th>na_sales</th>\n",
       "      <th>eu_sales</th>\n",
       "      <th>jp_sales</th>\n",
       "      <th>other_sales</th>\n",
       "      <th>critic_score</th>\n",
       "      <th>user_score</th>\n",
       "      <th>rating</th>\n",
       "    </tr>\n",
       "  </thead>\n",
       "  <tbody>\n",
       "    <tr>\n",
       "      <th>14205</th>\n",
       "      <td>Simple DS Series Vol. 8: The Kanshikikan - Kin...</td>\n",
       "      <td>DS</td>\n",
       "      <td>2006.0</td>\n",
       "      <td>Adventure</td>\n",
       "      <td>0.00</td>\n",
       "      <td>0.00</td>\n",
       "      <td>0.03</td>\n",
       "      <td>0.00</td>\n",
       "      <td>NaN</td>\n",
       "      <td>NaN</td>\n",
       "      <td>NaN</td>\n",
       "    </tr>\n",
       "    <tr>\n",
       "      <th>4646</th>\n",
       "      <td>Zack &amp; Wiki: Quest for Barbaros' Treasure</td>\n",
       "      <td>Wii</td>\n",
       "      <td>2007.0</td>\n",
       "      <td>Adventure</td>\n",
       "      <td>0.18</td>\n",
       "      <td>0.16</td>\n",
       "      <td>0.03</td>\n",
       "      <td>0.04</td>\n",
       "      <td>NaN</td>\n",
       "      <td>NaN</td>\n",
       "      <td>NaN</td>\n",
       "    </tr>\n",
       "    <tr>\n",
       "      <th>9161</th>\n",
       "      <td>Gallop &amp; Ride!</td>\n",
       "      <td>Wii</td>\n",
       "      <td>2008.0</td>\n",
       "      <td>Sports</td>\n",
       "      <td>0.13</td>\n",
       "      <td>0.00</td>\n",
       "      <td>0.00</td>\n",
       "      <td>0.01</td>\n",
       "      <td>NaN</td>\n",
       "      <td>NaN</td>\n",
       "      <td>NaN</td>\n",
       "    </tr>\n",
       "    <tr>\n",
       "      <th>12204</th>\n",
       "      <td>Command &amp; Conquer 3: Tiberium Wars</td>\n",
       "      <td>PC</td>\n",
       "      <td>2007.0</td>\n",
       "      <td>Strategy</td>\n",
       "      <td>0.00</td>\n",
       "      <td>0.06</td>\n",
       "      <td>0.00</td>\n",
       "      <td>0.01</td>\n",
       "      <td>NaN</td>\n",
       "      <td>NaN</td>\n",
       "      <td>NaN</td>\n",
       "    </tr>\n",
       "    <tr>\n",
       "      <th>15809</th>\n",
       "      <td>Ultraman Star Chronicles</td>\n",
       "      <td>PSP</td>\n",
       "      <td>2013.0</td>\n",
       "      <td>Strategy</td>\n",
       "      <td>0.00</td>\n",
       "      <td>0.00</td>\n",
       "      <td>0.02</td>\n",
       "      <td>0.00</td>\n",
       "      <td>NaN</td>\n",
       "      <td>NaN</td>\n",
       "      <td>NaN</td>\n",
       "    </tr>\n",
       "  </tbody>\n",
       "</table>\n",
       "</div>"
      ],
      "text/plain": [
       "                                                    name platform  \\\n",
       "14205  Simple DS Series Vol. 8: The Kanshikikan - Kin...       DS   \n",
       "4646           Zack & Wiki: Quest for Barbaros' Treasure      Wii   \n",
       "9161                                      Gallop & Ride!      Wii   \n",
       "12204                 Command & Conquer 3: Tiberium Wars       PC   \n",
       "15809                           Ultraman Star Chronicles      PSP   \n",
       "\n",
       "       release_year      genre  na_sales  eu_sales  jp_sales  other_sales  \\\n",
       "14205        2006.0  Adventure      0.00      0.00      0.03         0.00   \n",
       "4646         2007.0  Adventure      0.18      0.16      0.03         0.04   \n",
       "9161         2008.0     Sports      0.13      0.00      0.00         0.01   \n",
       "12204        2007.0   Strategy      0.00      0.06      0.00         0.01   \n",
       "15809        2013.0   Strategy      0.00      0.00      0.02         0.00   \n",
       "\n",
       "       critic_score user_score rating  \n",
       "14205           NaN        NaN    NaN  \n",
       "4646            NaN        NaN    NaN  \n",
       "9161            NaN        NaN    NaN  \n",
       "12204           NaN        NaN    NaN  \n",
       "15809           NaN        NaN    NaN  "
      ]
     },
     "execution_count": 22,
     "metadata": {},
     "output_type": "execute_result"
    }
   ],
   "source": [
    "critic_score.sample(5)"
   ]
  },
  {
   "cell_type": "code",
   "execution_count": 23,
   "metadata": {},
   "outputs": [
    {
     "data": {
      "text/html": [
       "<div>\n",
       "<style scoped>\n",
       "    .dataframe tbody tr th:only-of-type {\n",
       "        vertical-align: middle;\n",
       "    }\n",
       "\n",
       "    .dataframe tbody tr th {\n",
       "        vertical-align: top;\n",
       "    }\n",
       "\n",
       "    .dataframe thead th {\n",
       "        text-align: right;\n",
       "    }\n",
       "</style>\n",
       "<table border=\"1\" class=\"dataframe\">\n",
       "  <thead>\n",
       "    <tr style=\"text-align: right;\">\n",
       "      <th></th>\n",
       "      <th>name</th>\n",
       "      <th>platform</th>\n",
       "      <th>release_year</th>\n",
       "      <th>genre</th>\n",
       "      <th>na_sales</th>\n",
       "      <th>eu_sales</th>\n",
       "      <th>jp_sales</th>\n",
       "      <th>other_sales</th>\n",
       "      <th>critic_score</th>\n",
       "      <th>user_score</th>\n",
       "      <th>rating</th>\n",
       "    </tr>\n",
       "  </thead>\n",
       "  <tbody>\n",
       "    <tr>\n",
       "      <th>1</th>\n",
       "      <td>Super Mario Bros.</td>\n",
       "      <td>NES</td>\n",
       "      <td>1985.0</td>\n",
       "      <td>Platform</td>\n",
       "      <td>29.08</td>\n",
       "      <td>3.58</td>\n",
       "      <td>6.81</td>\n",
       "      <td>0.77</td>\n",
       "      <td>NaN</td>\n",
       "      <td>NaN</td>\n",
       "      <td>NaN</td>\n",
       "    </tr>\n",
       "    <tr>\n",
       "      <th>4</th>\n",
       "      <td>Pokemon Red/Pokemon Blue</td>\n",
       "      <td>GB</td>\n",
       "      <td>1996.0</td>\n",
       "      <td>Role-Playing</td>\n",
       "      <td>11.27</td>\n",
       "      <td>8.89</td>\n",
       "      <td>10.22</td>\n",
       "      <td>1.00</td>\n",
       "      <td>NaN</td>\n",
       "      <td>NaN</td>\n",
       "      <td>NaN</td>\n",
       "    </tr>\n",
       "    <tr>\n",
       "      <th>5</th>\n",
       "      <td>Tetris</td>\n",
       "      <td>GB</td>\n",
       "      <td>1989.0</td>\n",
       "      <td>Puzzle</td>\n",
       "      <td>23.20</td>\n",
       "      <td>2.26</td>\n",
       "      <td>4.22</td>\n",
       "      <td>0.58</td>\n",
       "      <td>NaN</td>\n",
       "      <td>NaN</td>\n",
       "      <td>NaN</td>\n",
       "    </tr>\n",
       "    <tr>\n",
       "      <th>9</th>\n",
       "      <td>Duck Hunt</td>\n",
       "      <td>NES</td>\n",
       "      <td>1984.0</td>\n",
       "      <td>Shooter</td>\n",
       "      <td>26.93</td>\n",
       "      <td>0.63</td>\n",
       "      <td>0.28</td>\n",
       "      <td>0.47</td>\n",
       "      <td>NaN</td>\n",
       "      <td>NaN</td>\n",
       "      <td>NaN</td>\n",
       "    </tr>\n",
       "    <tr>\n",
       "      <th>10</th>\n",
       "      <td>Nintendogs</td>\n",
       "      <td>DS</td>\n",
       "      <td>2005.0</td>\n",
       "      <td>Simulation</td>\n",
       "      <td>9.05</td>\n",
       "      <td>10.95</td>\n",
       "      <td>1.93</td>\n",
       "      <td>2.74</td>\n",
       "      <td>NaN</td>\n",
       "      <td>NaN</td>\n",
       "      <td>NaN</td>\n",
       "    </tr>\n",
       "  </tbody>\n",
       "</table>\n",
       "</div>"
      ],
      "text/plain": [
       "                        name platform  release_year         genre  na_sales  \\\n",
       "1          Super Mario Bros.      NES        1985.0      Platform     29.08   \n",
       "4   Pokemon Red/Pokemon Blue       GB        1996.0  Role-Playing     11.27   \n",
       "5                     Tetris       GB        1989.0        Puzzle     23.20   \n",
       "9                  Duck Hunt      NES        1984.0       Shooter     26.93   \n",
       "10                Nintendogs       DS        2005.0    Simulation      9.05   \n",
       "\n",
       "    eu_sales  jp_sales  other_sales  critic_score user_score rating  \n",
       "1       3.58      6.81         0.77           NaN        NaN    NaN  \n",
       "4       8.89     10.22         1.00           NaN        NaN    NaN  \n",
       "5       2.26      4.22         0.58           NaN        NaN    NaN  \n",
       "9       0.63      0.28         0.47           NaN        NaN    NaN  \n",
       "10     10.95      1.93         2.74           NaN        NaN    NaN  "
      ]
     },
     "execution_count": 23,
     "metadata": {},
     "output_type": "execute_result"
    }
   ],
   "source": [
    "ratings.head(5)"
   ]
  },
  {
   "cell_type": "code",
   "execution_count": 24,
   "metadata": {},
   "outputs": [],
   "source": [
    "df['critic_score'] = pd.to_numeric(df['critic_score'], errors='coerce')\n",
    "df['rating'] = df['rating'].fillna('unknown')"
   ]
  },
  {
   "cell_type": "code",
   "execution_count": 25,
   "metadata": {},
   "outputs": [
    {
     "data": {
      "text/plain": [
       "0"
      ]
     },
     "execution_count": 25,
     "metadata": {},
     "output_type": "execute_result"
    }
   ],
   "source": [
    "df['rating'].isna().sum()"
   ]
  },
  {
   "cell_type": "code",
   "execution_count": 26,
   "metadata": {},
   "outputs": [
    {
     "data": {
      "text/plain": [
       "8578"
      ]
     },
     "execution_count": 26,
     "metadata": {},
     "output_type": "execute_result"
    }
   ],
   "source": [
    "df['critic_score'].isna().sum()"
   ]
  },
  {
   "cell_type": "code",
   "execution_count": 27,
   "metadata": {},
   "outputs": [
    {
     "data": {
      "text/html": [
       "<div>\n",
       "<style scoped>\n",
       "    .dataframe tbody tr th:only-of-type {\n",
       "        vertical-align: middle;\n",
       "    }\n",
       "\n",
       "    .dataframe tbody tr th {\n",
       "        vertical-align: top;\n",
       "    }\n",
       "\n",
       "    .dataframe thead th {\n",
       "        text-align: right;\n",
       "    }\n",
       "</style>\n",
       "<table border=\"1\" class=\"dataframe\">\n",
       "  <thead>\n",
       "    <tr style=\"text-align: right;\">\n",
       "      <th></th>\n",
       "      <th>name</th>\n",
       "      <th>platform</th>\n",
       "      <th>release_year</th>\n",
       "      <th>genre</th>\n",
       "      <th>na_sales</th>\n",
       "      <th>eu_sales</th>\n",
       "      <th>jp_sales</th>\n",
       "      <th>other_sales</th>\n",
       "      <th>critic_score</th>\n",
       "      <th>user_score</th>\n",
       "      <th>rating</th>\n",
       "    </tr>\n",
       "  </thead>\n",
       "  <tbody>\n",
       "    <tr>\n",
       "      <th>10948</th>\n",
       "      <td>The Revenge of Shinobi</td>\n",
       "      <td>GBA</td>\n",
       "      <td>2002.0</td>\n",
       "      <td>Platform</td>\n",
       "      <td>0.07</td>\n",
       "      <td>0.02</td>\n",
       "      <td>0.00</td>\n",
       "      <td>0.00</td>\n",
       "      <td>51.0</td>\n",
       "      <td>tbd</td>\n",
       "      <td>E</td>\n",
       "    </tr>\n",
       "    <tr>\n",
       "      <th>13136</th>\n",
       "      <td>SpongeBob SquarePants: Plankton's Robotic Revenge</td>\n",
       "      <td>WiiU</td>\n",
       "      <td>2013.0</td>\n",
       "      <td>Shooter</td>\n",
       "      <td>0.00</td>\n",
       "      <td>0.05</td>\n",
       "      <td>0.00</td>\n",
       "      <td>0.00</td>\n",
       "      <td>NaN</td>\n",
       "      <td>6.2</td>\n",
       "      <td>E10+</td>\n",
       "    </tr>\n",
       "    <tr>\n",
       "      <th>15450</th>\n",
       "      <td>F1 2002</td>\n",
       "      <td>GBA</td>\n",
       "      <td>2002.0</td>\n",
       "      <td>Racing</td>\n",
       "      <td>0.01</td>\n",
       "      <td>0.01</td>\n",
       "      <td>0.00</td>\n",
       "      <td>0.00</td>\n",
       "      <td>NaN</td>\n",
       "      <td>tbd</td>\n",
       "      <td>E</td>\n",
       "    </tr>\n",
       "    <tr>\n",
       "      <th>7063</th>\n",
       "      <td>Alundra</td>\n",
       "      <td>PS</td>\n",
       "      <td>1997.0</td>\n",
       "      <td>Role-Playing</td>\n",
       "      <td>0.13</td>\n",
       "      <td>0.09</td>\n",
       "      <td>0.00</td>\n",
       "      <td>0.01</td>\n",
       "      <td>86.0</td>\n",
       "      <td>9</td>\n",
       "      <td>T</td>\n",
       "    </tr>\n",
       "    <tr>\n",
       "      <th>2816</th>\n",
       "      <td>Naruto Shippuden: Ultimate Ninja Storm Generat...</td>\n",
       "      <td>PS3</td>\n",
       "      <td>2012.0</td>\n",
       "      <td>Fighting</td>\n",
       "      <td>0.27</td>\n",
       "      <td>0.24</td>\n",
       "      <td>0.14</td>\n",
       "      <td>0.08</td>\n",
       "      <td>74.0</td>\n",
       "      <td>7.1</td>\n",
       "      <td>T</td>\n",
       "    </tr>\n",
       "    <tr>\n",
       "      <th>12152</th>\n",
       "      <td>Ninja Warriors</td>\n",
       "      <td>SNES</td>\n",
       "      <td>1993.0</td>\n",
       "      <td>Action</td>\n",
       "      <td>0.00</td>\n",
       "      <td>0.00</td>\n",
       "      <td>0.07</td>\n",
       "      <td>0.00</td>\n",
       "      <td>NaN</td>\n",
       "      <td>NaN</td>\n",
       "      <td>unknown</td>\n",
       "    </tr>\n",
       "    <tr>\n",
       "      <th>8952</th>\n",
       "      <td>Charm Girls Club: Pajama Party</td>\n",
       "      <td>Wii</td>\n",
       "      <td>2009.0</td>\n",
       "      <td>Misc</td>\n",
       "      <td>0.14</td>\n",
       "      <td>0.00</td>\n",
       "      <td>0.00</td>\n",
       "      <td>0.01</td>\n",
       "      <td>NaN</td>\n",
       "      <td>tbd</td>\n",
       "      <td>E</td>\n",
       "    </tr>\n",
       "    <tr>\n",
       "      <th>10657</th>\n",
       "      <td>Marvel vs. Capcom: Clash of Super Heroes</td>\n",
       "      <td>DC</td>\n",
       "      <td>1999.0</td>\n",
       "      <td>Fighting</td>\n",
       "      <td>0.00</td>\n",
       "      <td>0.00</td>\n",
       "      <td>0.10</td>\n",
       "      <td>0.00</td>\n",
       "      <td>NaN</td>\n",
       "      <td>NaN</td>\n",
       "      <td>unknown</td>\n",
       "    </tr>\n",
       "    <tr>\n",
       "      <th>9676</th>\n",
       "      <td>Diner Dash: Sizzle &amp; Serve</td>\n",
       "      <td>PSP</td>\n",
       "      <td>2007.0</td>\n",
       "      <td>Puzzle</td>\n",
       "      <td>0.11</td>\n",
       "      <td>0.00</td>\n",
       "      <td>0.00</td>\n",
       "      <td>0.01</td>\n",
       "      <td>NaN</td>\n",
       "      <td>NaN</td>\n",
       "      <td>unknown</td>\n",
       "    </tr>\n",
       "    <tr>\n",
       "      <th>1801</th>\n",
       "      <td>Naruto Shippuden: Ultimate Ninja Storm 4</td>\n",
       "      <td>PS4</td>\n",
       "      <td>2016.0</td>\n",
       "      <td>Fighting</td>\n",
       "      <td>0.41</td>\n",
       "      <td>0.45</td>\n",
       "      <td>0.11</td>\n",
       "      <td>0.17</td>\n",
       "      <td>79.0</td>\n",
       "      <td>8.2</td>\n",
       "      <td>T</td>\n",
       "    </tr>\n",
       "  </tbody>\n",
       "</table>\n",
       "</div>"
      ],
      "text/plain": [
       "                                                    name platform  \\\n",
       "10948                             The Revenge of Shinobi      GBA   \n",
       "13136  SpongeBob SquarePants: Plankton's Robotic Revenge     WiiU   \n",
       "15450                                            F1 2002      GBA   \n",
       "7063                                             Alundra       PS   \n",
       "2816   Naruto Shippuden: Ultimate Ninja Storm Generat...      PS3   \n",
       "12152                                     Ninja Warriors     SNES   \n",
       "8952                      Charm Girls Club: Pajama Party      Wii   \n",
       "10657           Marvel vs. Capcom: Clash of Super Heroes       DC   \n",
       "9676                          Diner Dash: Sizzle & Serve      PSP   \n",
       "1801            Naruto Shippuden: Ultimate Ninja Storm 4      PS4   \n",
       "\n",
       "       release_year         genre  na_sales  eu_sales  jp_sales  other_sales  \\\n",
       "10948        2002.0      Platform      0.07      0.02      0.00         0.00   \n",
       "13136        2013.0       Shooter      0.00      0.05      0.00         0.00   \n",
       "15450        2002.0        Racing      0.01      0.01      0.00         0.00   \n",
       "7063         1997.0  Role-Playing      0.13      0.09      0.00         0.01   \n",
       "2816         2012.0      Fighting      0.27      0.24      0.14         0.08   \n",
       "12152        1993.0        Action      0.00      0.00      0.07         0.00   \n",
       "8952         2009.0          Misc      0.14      0.00      0.00         0.01   \n",
       "10657        1999.0      Fighting      0.00      0.00      0.10         0.00   \n",
       "9676         2007.0        Puzzle      0.11      0.00      0.00         0.01   \n",
       "1801         2016.0      Fighting      0.41      0.45      0.11         0.17   \n",
       "\n",
       "       critic_score user_score   rating  \n",
       "10948          51.0        tbd        E  \n",
       "13136           NaN        6.2     E10+  \n",
       "15450           NaN        tbd        E  \n",
       "7063           86.0          9        T  \n",
       "2816           74.0        7.1        T  \n",
       "12152           NaN        NaN  unknown  \n",
       "8952            NaN        tbd        E  \n",
       "10657           NaN        NaN  unknown  \n",
       "9676            NaN        NaN  unknown  \n",
       "1801           79.0        8.2        T  "
      ]
     },
     "execution_count": 27,
     "metadata": {},
     "output_type": "execute_result"
    }
   ],
   "source": [
    "df.sample(10)"
   ]
  },
  {
   "cell_type": "code",
   "execution_count": 28,
   "metadata": {},
   "outputs": [
    {
     "data": {
      "text/plain": [
       "6701"
      ]
     },
     "execution_count": 28,
     "metadata": {},
     "output_type": "execute_result"
    }
   ],
   "source": [
    "df['user_score'].isna().sum()"
   ]
  },
  {
   "cell_type": "code",
   "execution_count": 29,
   "metadata": {},
   "outputs": [],
   "source": [
    "df['user_score'] = pd.to_numeric(df['user_score'], errors='coerce')"
   ]
  },
  {
   "cell_type": "markdown",
   "metadata": {},
   "source": [
    "## Creating company columns\n",
    "\n",
    "Subsequently, I added supplementary columns based on the available data to ascertain the release dates of platforms."
   ]
  },
  {
   "cell_type": "code",
   "execution_count": 30,
   "metadata": {},
   "outputs": [],
   "source": [
    "df['platform_release'] = df.groupby('platform')['release_year'].transform(min)"
   ]
  },
  {
   "cell_type": "code",
   "execution_count": 31,
   "metadata": {},
   "outputs": [
    {
     "data": {
      "text/plain": [
       "name                0.000120\n",
       "platform            0.000000\n",
       "release_year        0.016093\n",
       "genre               0.000120\n",
       "na_sales            0.000000\n",
       "eu_sales            0.000000\n",
       "jp_sales            0.000000\n",
       "other_sales         0.000000\n",
       "critic_score        0.513192\n",
       "user_score          0.545917\n",
       "rating              0.000000\n",
       "platform_release    0.000000\n",
       "dtype: float64"
      ]
     },
     "execution_count": 31,
     "metadata": {},
     "output_type": "execute_result"
    }
   ],
   "source": [
    "df.isna().mean()"
   ]
  },
  {
   "cell_type": "code",
   "execution_count": 32,
   "metadata": {},
   "outputs": [
    {
     "name": "stdout",
     "output_type": "stream",
     "text": [
      "<class 'pandas.core.frame.DataFrame'>\n",
      "RangeIndex: 16715 entries, 0 to 16714\n",
      "Data columns (total 12 columns):\n",
      " #   Column            Non-Null Count  Dtype  \n",
      "---  ------            --------------  -----  \n",
      " 0   name              16713 non-null  object \n",
      " 1   platform          16715 non-null  object \n",
      " 2   release_year      16446 non-null  float64\n",
      " 3   genre             16713 non-null  object \n",
      " 4   na_sales          16715 non-null  float64\n",
      " 5   eu_sales          16715 non-null  float64\n",
      " 6   jp_sales          16715 non-null  float64\n",
      " 7   other_sales       16715 non-null  float64\n",
      " 8   critic_score      8137 non-null   float64\n",
      " 9   user_score        7590 non-null   float64\n",
      " 10  rating            16715 non-null  object \n",
      " 11  platform_release  16715 non-null  float64\n",
      "dtypes: float64(8), object(4)\n",
      "memory usage: 1.5+ MB\n"
     ]
    }
   ],
   "source": [
    "df.info()"
   ]
  },
  {
   "cell_type": "markdown",
   "metadata": {},
   "source": [
    "### Categorisation into smaller categories of companies"
   ]
  },
  {
   "cell_type": "code",
   "execution_count": 33,
   "metadata": {},
   "outputs": [
    {
     "data": {
      "text/plain": [
       "array(['Wii', 'NES', 'GB', 'DS', 'X360', 'PS3', 'PS2', 'SNES', 'GBA',\n",
       "       'PS4', '3DS', 'N64', 'PS', 'XB', 'PC', '2600', 'PSP', 'XOne',\n",
       "       'WiiU', 'GC', 'GEN', 'DC', 'PSV', 'SAT', 'SCD', 'WS', 'NG', 'TG16',\n",
       "       '3DO', 'GG', 'PCFX'], dtype=object)"
      ]
     },
     "execution_count": 33,
     "metadata": {},
     "output_type": "execute_result"
    }
   ],
   "source": [
    "## Add Platform Company column\n",
    "df['platform'].unique()"
   ]
  },
  {
   "cell_type": "code",
   "execution_count": 34,
   "metadata": {},
   "outputs": [],
   "source": [
    "platform_dict = {'Wii':'Nintendo', \n",
    "                 'NES':'Nintendo', \n",
    "                 'GB':'Nintendo', \n",
    "                 'SNES':'Nintendo', \n",
    "                 'GBA':'Nintendo',\n",
    "                 '3DS':'Nintendo', \n",
    "                 'N64':'Nintendo',\n",
    "                 'WiiU':'Nintendo',\n",
    "                 '3DO':'Other',\n",
    "                 'GC':'Nintendo',\n",
    "                 'X360':'Microsoft',\n",
    "                 'XB':'Microsoft',\n",
    "                 'XOne':'Microsoft',\n",
    "                 'PSV':'Playstation',\n",
    "                 'PS':'Playstation',\n",
    "                 'PS2':'Playstation',\n",
    "                 'PS3':'Playstation',\n",
    "                 'PS4':'Playstation',\n",
    "                 'PSP':'Playstation',\n",
    "                 'PC': 'Computer Games',\n",
    "                 'PCFX':'Computer Games',\n",
    "                 'GEN':'SEGA',\n",
    "                 'DC':'SEGA',\n",
    "                 'SAT':'SEGA',\n",
    "                 'SCD':'SEGA',\n",
    "                 'WS':'Other',\n",
    "                 'NG':'Other',\n",
    "                 'TG16':'Other',\n",
    "                 'DS':'Nintendo',\n",
    "                 'GG':'SEGA',\n",
    "                 '2600':'Atari'\n",
    "              }"
   ]
  },
  {
   "cell_type": "code",
   "execution_count": 35,
   "metadata": {},
   "outputs": [],
   "source": [
    "df['platform_company'] = df['platform'].map(platform_dict)"
   ]
  },
  {
   "cell_type": "code",
   "execution_count": 36,
   "metadata": {},
   "outputs": [
    {
     "data": {
      "text/plain": [
       "array(['Nintendo', 'Microsoft', 'Playstation', 'Computer Games', 'Atari',\n",
       "       'SEGA', 'Other'], dtype=object)"
      ]
     },
     "execution_count": 36,
     "metadata": {},
     "output_type": "execute_result"
    }
   ],
   "source": [
    "df['platform_company'].unique()"
   ]
  },
  {
   "cell_type": "markdown",
   "metadata": {},
   "source": [
    "## Adding total sales colums"
   ]
  },
  {
   "cell_type": "code",
   "execution_count": 37,
   "metadata": {},
   "outputs": [],
   "source": [
    "df['total_sales'] = df[['na_sales','eu_sales','jp_sales', 'other_sales']].sum(axis = 1)"
   ]
  },
  {
   "cell_type": "markdown",
   "metadata": {},
   "source": [
    "## Analyse the data\n",
    "\n",
    "- To enhance the understanding of game releases over time, I created a visual representation in the form of a bar chart and line plot. This visualisation aids in identifying trends and patterns in the number of games released per year.\n",
    "\n",
    "- Furthermore, I conducted an analysis to assess the significance of the data for each period. By comparing the number of games released, I sought to identify noteworthy spikes or drops that could indicate significant events or industry shifts.\n",
    "\n",
    "- Additionally, I examined the variations in sales across different platforms. By selecting the platforms with the highest total sales, I constructed a distribution based on the available yearly data. This analysis provides insights into the sales performance across platforms and facilitates further examination of sales trends and patterns.\n",
    "\n",
    "### Games released by year"
   ]
  },
  {
   "cell_type": "code",
   "execution_count": 40,
   "metadata": {},
   "outputs": [],
   "source": [
    "games_by_yr = pd.pivot_table(df, index=['release_year'], values='name', aggfunc='count')\n",
    "games_by_yr.columns = ['count']"
   ]
  },
  {
   "cell_type": "code",
   "execution_count": 41,
   "metadata": {},
   "outputs": [
    {
     "data": {
      "image/png": "[encoded data removed]",
      "text/plain": [
       "<Figure size 720x360 with 1 Axes>"
      ]
     },
     "metadata": {
      "needs_background": "light"
     },
     "output_type": "display_data"
    }
   ],
   "source": [
    "games_by_yr_by_platform = pd.pivot_table(df, index=['release_year'], columns=['platform_company'], values='name', aggfunc='count')\n",
    "games_by_yr_by_platform.plot(kind='line', alpha=1, figsize=(10,5))\n",
    "plt.ylabel('games relesed')\n",
    "plt.xlabel('release year')\n",
    "plt.title('Games released by year and platform')\n",
    "plt.grid(True, axis='y')\n",
    "plt.show()"
   ]
  },
  {
   "cell_type": "code",
   "execution_count": 42,
   "metadata": {},
   "outputs": [
    {
     "data": {
      "image/png": "[encoded data removed]",
      "text/plain": [
       "<Figure size 720x360 with 1 Axes>"
      ]
     },
     "metadata": {
      "needs_background": "light"
     },
     "output_type": "display_data"
    }
   ],
   "source": [
    "games_by_yr.sort_values(by='count', ascending=False).head(10)\n",
    "games_by_yr.plot(kind='bar', alpha=0.5, color='red', figsize=(10,5))\n",
    "plt.ylabel('games released')\n",
    "plt.xlabel('release year')\n",
    "plt.title('Games released by year')\n",
    "plt.grid(True, axis='y')\n",
    "plt.show()"
   ]
  },
  {
   "cell_type": "code",
   "execution_count": 43,
   "metadata": {},
   "outputs": [],
   "source": [
    "estimated_platform_release = df.groupby('platform')['release_year'].min()\n",
    "estimated_platform_release.columns = ['platform', 'release_year']"
   ]
  },
  {
   "cell_type": "code",
   "execution_count": 44,
   "metadata": {},
   "outputs": [
    {
     "data": {
      "text/plain": [
       "platform\n",
       "2600    1980.0\n",
       "NES     1983.0\n",
       "DS      1985.0\n",
       "PC      1985.0\n",
       "GB      1988.0\n",
       "SNES    1990.0\n",
       "GEN     1990.0\n",
       "GG      1992.0\n",
       "SCD     1993.0\n",
       "NG      1993.0\n",
       "SAT     1994.0\n",
       "PS      1994.0\n",
       "3DO     1994.0\n",
       "TG16    1995.0\n",
       "PCFX    1996.0\n",
       "N64     1996.0\n",
       "DC      1998.0\n",
       "WS      1999.0\n",
       "GBA     2000.0\n",
       "XB      2000.0\n",
       "PS2     2000.0\n",
       "GC      2001.0\n",
       "PSP     2004.0\n",
       "X360    2005.0\n",
       "PS3     2006.0\n",
       "Wii     2006.0\n",
       "3DS     2011.0\n",
       "PSV     2011.0\n",
       "WiiU    2012.0\n",
       "PS4     2013.0\n",
       "XOne    2013.0\n",
       "Name: release_year, dtype: float64"
      ]
     },
     "execution_count": 44,
     "metadata": {},
     "output_type": "execute_result"
    }
   ],
   "source": [
    "estimated_platform_release.sort_values()"
   ]
  },
  {
   "cell_type": "markdown",
   "metadata": {},
   "source": [
    "### Game sales distribution by platform"
   ]
  },
  {
   "cell_type": "code",
   "execution_count": 45,
   "metadata": {
    "scrolled": true
   },
   "outputs": [
    {
     "data": {
      "text/plain": [
       "platform_company  platform\n",
       "Atari             2600        1980.0\n",
       "Computer Games    PC          1985.0\n",
       "                  PCFX        1996.0\n",
       "Microsoft         X360        2005.0\n",
       "                  XB          2000.0\n",
       "                  XOne        2013.0\n",
       "Nintendo          3DS         2011.0\n",
       "                  DS          1985.0\n",
       "                  GB          1988.0\n",
       "                  GBA         2000.0\n",
       "                  GC          2001.0\n",
       "                  N64         1996.0\n",
       "                  NES         1983.0\n",
       "                  SNES        1990.0\n",
       "                  Wii         2006.0\n",
       "                  WiiU        2012.0\n",
       "Other             3DO         1994.0\n",
       "                  NG          1993.0\n",
       "                  TG16        1995.0\n",
       "                  WS          1999.0\n",
       "Playstation       PS          1994.0\n",
       "                  PS2         2000.0\n",
       "                  PS3         2006.0\n",
       "                  PS4         2013.0\n",
       "                  PSP         2004.0\n",
       "                  PSV         2011.0\n",
       "SEGA              DC          1998.0\n",
       "                  GEN         1990.0\n",
       "                  GG          1992.0\n",
       "                  SAT         1994.0\n",
       "                  SCD         1993.0\n",
       "Name: release_year, dtype: float64"
      ]
     },
     "execution_count": 45,
     "metadata": {},
     "output_type": "execute_result"
    }
   ],
   "source": [
    "platform_release = df.groupby(['platform_company','platform'])['release_year'].agg('min')\n",
    "platform_release"
   ]
  },
  {
   "cell_type": "code",
   "execution_count": 46,
   "metadata": {},
   "outputs": [],
   "source": [
    "# platstation slice\n",
    "playst = df.query(\"platform_company == 'Playstation'\")"
   ]
  },
  {
   "cell_type": "code",
   "execution_count": 47,
   "metadata": {},
   "outputs": [
    {
     "data": {
      "image/png": "[encoded data removed]",
      "text/plain": [
       "<Figure size 720x432 with 1 Axes>"
      ]
     },
     "metadata": {
      "needs_background": "light"
     },
     "output_type": "display_data"
    }
   ],
   "source": [
    "plt.figure(figsize=(10, 6))\n",
    "plt.hist(playst['release_year'], bins=10, \n",
    "         weights=playst['total_sales'], \n",
    "         density=True, color='green', \n",
    "         alpha=0.3, edgecolor='black')\n",
    "plt.xlabel('Release Year')\n",
    "plt.ylabel('Total Sales')\n",
    "plt.title('Sales Distribution Playstation games')\n",
    "plt.xticks(rotation=45)\n",
    "plt.show()"
   ]
  },
  {
   "cell_type": "code",
   "execution_count": 48,
   "metadata": {},
   "outputs": [
    {
     "data": {
      "image/png": "[encoded data removed]",
      "text/plain": [
       "<Figure size 720x432 with 1 Axes>"
      ]
     },
     "metadata": {
      "needs_background": "light"
     },
     "output_type": "display_data"
    }
   ],
   "source": [
    "# nintendo slice\n",
    "ntnd = df.query(\"platform_company == 'Nintendo'\")\n",
    "#nintendo hist\n",
    "plt.figure(figsize=(10, 6))\n",
    "plt.hist(ntnd['release_year'], bins=10, \n",
    "         weights=ntnd['total_sales'], \n",
    "         density=True, color='red', \n",
    "         alpha=0.3, edgecolor='black')\n",
    "plt.xlabel('Release Year')\n",
    "plt.ylabel('Total Sales')\n",
    "plt.title('Sales Distribution Nintendo games')\n",
    "plt.xticks(rotation=45)\n",
    "plt.show()"
   ]
  },
  {
   "cell_type": "code",
   "execution_count": 49,
   "metadata": {},
   "outputs": [
    {
     "data": {
      "image/png": "[encoded data removed]",
      "text/plain": [
       "<Figure size 720x432 with 1 Axes>"
      ]
     },
     "metadata": {
      "needs_background": "light"
     },
     "output_type": "display_data"
    }
   ],
   "source": [
    "# xbox slice\n",
    "xbox = df.query(\"platform_company == 'Microsoft'\")\n",
    "# xbox hist\n",
    "plt.figure(figsize=(10, 6))\n",
    "plt.hist(xbox['release_year'], bins=10, \n",
    "         weights=xbox['total_sales'], \n",
    "         density=True, color='black', \n",
    "         alpha=0.3, edgecolor='green')\n",
    "plt.xlabel('Release Year')\n",
    "plt.ylabel('Total Sales')\n",
    "plt.title('Sales Distribution Xbox games')\n",
    "plt.xticks(rotation=45)\n",
    "plt.show()"
   ]
  },
  {
   "cell_type": "markdown",
   "metadata": {},
   "source": [
    "### Game sales by individual platforms per company"
   ]
  },
  {
   "cell_type": "code",
   "execution_count": 50,
   "metadata": {},
   "outputs": [],
   "source": [
    "## Do the same histograms for the individual platforms from chosen companies."
   ]
  },
  {
   "cell_type": "code",
   "execution_count": 51,
   "metadata": {},
   "outputs": [
    {
     "data": {
      "image/png": "[encoded data removed]",
      "text/plain": [
       "<Figure size 720x432 with 1 Axes>"
      ]
     },
     "metadata": {
      "needs_background": "light"
     },
     "output_type": "display_data"
    }
   ],
   "source": [
    "plt.figure(figsize=(10, 6))\n",
    "plt.hist(df['platform'], bins=31, \n",
    "         weights=df['total_sales'], \n",
    "         density=True, color='green', \n",
    "         alpha=0.3, edgecolor='black')\n",
    "plt.xlabel('Release Year')\n",
    "plt.ylabel('Total Sales')\n",
    "plt.title('Distribution of Sales by Platform')\n",
    "plt.xticks(rotation=45)\n",
    "plt.show()"
   ]
  },
  {
   "cell_type": "code",
   "execution_count": 52,
   "metadata": {},
   "outputs": [
    {
     "data": {
      "text/plain": [
       "31"
      ]
     },
     "execution_count": 52,
     "metadata": {},
     "output_type": "execute_result"
    }
   ],
   "source": [
    "df['platform'].nunique()"
   ]
  },
  {
   "cell_type": "code",
   "execution_count": 53,
   "metadata": {},
   "outputs": [],
   "source": [
    "ps2 = df.query(\"platform == 'PS2'\")\n",
    "X360 = df.query(\"platform == 'X360'\")\n",
    "ps3 = df.query(\"platform == 'PS3'\")"
   ]
  },
  {
   "cell_type": "code",
   "execution_count": 54,
   "metadata": {},
   "outputs": [
    {
     "data": {
      "image/png": "[encoded data removed]",
      "text/plain": [
       "<Figure size 864x288 with 3 Axes>"
      ]
     },
     "metadata": {
      "needs_background": "light"
     },
     "output_type": "display_data"
    }
   ],
   "source": [
    "fig, axes = plt.subplots(1, 3, figsize=(12, 4))\n",
    "\n",
    "axes[0].hist(ps2['release_year'], bins=10,\n",
    "             weights=ps2['total_sales'],\n",
    "             density=True, color='black',\n",
    "             alpha=0.3, edgecolor='green')\n",
    "axes[0].set_xlabel('Release Year')\n",
    "axes[0].set_ylabel('Total Sales')\n",
    "axes[0].set_title('Sales Distribution PS2 games')\n",
    "\n",
    "axes[1].hist(X360['release_year'], bins=10,\n",
    "             weights=X360['total_sales'],\n",
    "             density=True, color='black',\n",
    "             alpha=0.3, edgecolor='green')\n",
    "axes[1].set_xlabel('Release Year')\n",
    "axes[1].set_ylabel('Total Sales')\n",
    "axes[1].set_title('Sales Distribution Xbox games')\n",
    "\n",
    "axes[2].hist(ps3['release_year'], bins=10,\n",
    "             weights=ps3['total_sales'],\n",
    "             density=True, color='black',\n",
    "             alpha=0.3, edgecolor='green')\n",
    "axes[2].set_xlabel('Release Year')\n",
    "axes[2].set_ylabel('Total Sales')\n",
    "axes[2].set_title('Sales Distribution PS3 games')\n",
    "\n",
    "plt.tight_layout()\n",
    "plt.show()\n"
   ]
  },
  {
   "cell_type": "markdown",
   "metadata": {},
   "source": [
    "#### Distribution of Sales\n",
    "\n",
    "- The Playstation platform demonstrates a notably symmetric distribution, highlighting consistent sales performance with the release of each new console version. Our analysis of release years revealed a substantial growth in Playstation sales, which continued to escalate with the introduction of new models every six years.\n",
    "- The sales distribution for Nintendo exhibits a left-skewed pattern, reinforcing our initial observations. Nintendo's sales reached their peak following the launch of the Nintendo Wii and advanced Game Boy consoles, which occurred after 2006 towards the latter portion of the distribution.\n",
    "- Similiarly, the Xbox game sales exhibited a left-skewed pattern. Notably, the Xbox sales peaked around 2010-2013 coninciding with the release of the Xbox One model.\n",
    "\n",
    "#### Distribution of Sales by platform\n",
    "\n",
    "- Based on the distribution charts they console with the most sales in the PS2, PS3, XB360 and Wii. These consoles were release between 2000 and 2013, during this period the games sales started to climb.\n",
    "\n",
    "With the exception of Playstation it is clear that sales tend to drop after the initial release of the console, particularly if no new models were released. For instance, the firsat Xbox One sales were in 2013 and the first Wii sales were in 2006. Since then both platforms saw a decline in the number of games sold.\n",
    "\n",
    "#### Top 3 platforms\n",
    "\n",
    "After conducting an analysis of sales data for the top three platforms, it becomes evident that the sales trajectory of the PS2 experienced a notable decline subsequent to the introduction of the PS3. Furthermore, the sales figures for the PS3 displayed a symmetrical pattern following its initial release, thereby highlighting a concentration of sales primarily within the period spanning from 2010 to 2012."
   ]
  },
  {
   "cell_type": "markdown",
   "metadata": {},
   "source": [
    "## Selecting a key period"
   ]
  },
  {
   "cell_type": "markdown",
   "metadata": {},
   "source": [
    "By segmenting the data and isolating the periods marked by substantial sales, we aim to discern significant insights. Among the distributions analysed, the data for the years after 2010 emerge as a salient candidates. \n",
    "\n",
    "This meticulous selection is driven by its discernibly favorable distribution pattern. The purpose behind this strategic maneuver is to craft a prognosis that takes into account the intricate dynamics of a competitive console market, characterized by a multitude of active players and the ebb and flow of console introductions and retirements."
   ]
  },
  {
   "cell_type": "code",
   "execution_count": 55,
   "metadata": {},
   "outputs": [
    {
     "data": {
      "text/html": [
       "<div>\n",
       "<style scoped>\n",
       "    .dataframe tbody tr th:only-of-type {\n",
       "        vertical-align: middle;\n",
       "    }\n",
       "\n",
       "    .dataframe tbody tr th {\n",
       "        vertical-align: top;\n",
       "    }\n",
       "\n",
       "    .dataframe thead th {\n",
       "        text-align: right;\n",
       "    }\n",
       "</style>\n",
       "<table border=\"1\" class=\"dataframe\">\n",
       "  <thead>\n",
       "    <tr style=\"text-align: right;\">\n",
       "      <th></th>\n",
       "      <th>name</th>\n",
       "      <th>platform</th>\n",
       "      <th>release_year</th>\n",
       "      <th>genre</th>\n",
       "      <th>na_sales</th>\n",
       "      <th>eu_sales</th>\n",
       "      <th>jp_sales</th>\n",
       "      <th>other_sales</th>\n",
       "      <th>critic_score</th>\n",
       "      <th>user_score</th>\n",
       "      <th>rating</th>\n",
       "      <th>platform_release</th>\n",
       "      <th>platform_company</th>\n",
       "      <th>total_sales</th>\n",
       "    </tr>\n",
       "  </thead>\n",
       "  <tbody>\n",
       "    <tr>\n",
       "      <th>5246</th>\n",
       "      <td>Thief (2014)</td>\n",
       "      <td>PS3</td>\n",
       "      <td>2014.0</td>\n",
       "      <td>Action</td>\n",
       "      <td>0.10</td>\n",
       "      <td>0.17</td>\n",
       "      <td>0.02</td>\n",
       "      <td>0.05</td>\n",
       "      <td>NaN</td>\n",
       "      <td>NaN</td>\n",
       "      <td>unknown</td>\n",
       "      <td>2006.0</td>\n",
       "      <td>Playstation</td>\n",
       "      <td>0.34</td>\n",
       "    </tr>\n",
       "    <tr>\n",
       "      <th>6628</th>\n",
       "      <td>Just Dance 2015</td>\n",
       "      <td>PS3</td>\n",
       "      <td>2014.0</td>\n",
       "      <td>Misc</td>\n",
       "      <td>0.13</td>\n",
       "      <td>0.08</td>\n",
       "      <td>0.00</td>\n",
       "      <td>0.04</td>\n",
       "      <td>NaN</td>\n",
       "      <td>6.8</td>\n",
       "      <td>E10+</td>\n",
       "      <td>2006.0</td>\n",
       "      <td>Playstation</td>\n",
       "      <td>0.25</td>\n",
       "    </tr>\n",
       "    <tr>\n",
       "      <th>16294</th>\n",
       "      <td>Adventure Time: The Secret of the Nameless</td>\n",
       "      <td>X360</td>\n",
       "      <td>2014.0</td>\n",
       "      <td>Adventure</td>\n",
       "      <td>0.01</td>\n",
       "      <td>0.00</td>\n",
       "      <td>0.00</td>\n",
       "      <td>0.00</td>\n",
       "      <td>NaN</td>\n",
       "      <td>NaN</td>\n",
       "      <td>unknown</td>\n",
       "      <td>2005.0</td>\n",
       "      <td>Microsoft</td>\n",
       "      <td>0.01</td>\n",
       "    </tr>\n",
       "    <tr>\n",
       "      <th>6678</th>\n",
       "      <td>Hatsune Miku: Project Diva F 2nd</td>\n",
       "      <td>PS3</td>\n",
       "      <td>2014.0</td>\n",
       "      <td>Misc</td>\n",
       "      <td>0.09</td>\n",
       "      <td>0.03</td>\n",
       "      <td>0.10</td>\n",
       "      <td>0.03</td>\n",
       "      <td>78.0</td>\n",
       "      <td>8.6</td>\n",
       "      <td>T</td>\n",
       "      <td>2006.0</td>\n",
       "      <td>Playstation</td>\n",
       "      <td>0.25</td>\n",
       "    </tr>\n",
       "    <tr>\n",
       "      <th>12502</th>\n",
       "      <td>Super Robot Wars OG Saga Masou Kishin F: Coffi...</td>\n",
       "      <td>PS3</td>\n",
       "      <td>2014.0</td>\n",
       "      <td>Strategy</td>\n",
       "      <td>0.00</td>\n",
       "      <td>0.00</td>\n",
       "      <td>0.06</td>\n",
       "      <td>0.00</td>\n",
       "      <td>NaN</td>\n",
       "      <td>NaN</td>\n",
       "      <td>unknown</td>\n",
       "      <td>2006.0</td>\n",
       "      <td>Playstation</td>\n",
       "      <td>0.06</td>\n",
       "    </tr>\n",
       "  </tbody>\n",
       "</table>\n",
       "</div>"
      ],
      "text/plain": [
       "                                                    name platform  \\\n",
       "5246                                        Thief (2014)      PS3   \n",
       "6628                                     Just Dance 2015      PS3   \n",
       "16294        Adventure Time: The Secret of the Nameless      X360   \n",
       "6678                    Hatsune Miku: Project Diva F 2nd      PS3   \n",
       "12502  Super Robot Wars OG Saga Masou Kishin F: Coffi...      PS3   \n",
       "\n",
       "       release_year      genre  na_sales  eu_sales  jp_sales  other_sales  \\\n",
       "5246         2014.0     Action      0.10      0.17      0.02         0.05   \n",
       "6628         2014.0       Misc      0.13      0.08      0.00         0.04   \n",
       "16294        2014.0  Adventure      0.01      0.00      0.00         0.00   \n",
       "6678         2014.0       Misc      0.09      0.03      0.10         0.03   \n",
       "12502        2014.0   Strategy      0.00      0.00      0.06         0.00   \n",
       "\n",
       "       critic_score  user_score   rating  platform_release platform_company  \\\n",
       "5246            NaN         NaN  unknown            2006.0      Playstation   \n",
       "6628            NaN         6.8     E10+            2006.0      Playstation   \n",
       "16294           NaN         NaN  unknown            2005.0        Microsoft   \n",
       "6678           78.0         8.6        T            2006.0      Playstation   \n",
       "12502           NaN         NaN  unknown            2006.0      Playstation   \n",
       "\n",
       "       total_sales  \n",
       "5246          0.34  \n",
       "6628          0.25  \n",
       "16294         0.01  \n",
       "6678          0.25  \n",
       "12502         0.06  "
      ]
     },
     "execution_count": 55,
     "metadata": {},
     "output_type": "execute_result"
    }
   ],
   "source": [
    "# We're using 2013 as our chosen year.\n",
    "new_data = df.query('release_year > 2013')\n",
    "new_data.sort_values(by='release_year').head(5)"
   ]
  },
  {
   "cell_type": "markdown",
   "metadata": {},
   "source": [
    "Using our newly formulated data we will produce a box plot and try to determine more about the variance, median and how many outliers we have."
   ]
  },
  {
   "cell_type": "code",
   "execution_count": 56,
   "metadata": {},
   "outputs": [
    {
     "data": {
      "text/plain": [
       "count    1689.000000\n",
       "mean        0.431883\n",
       "std         1.056109\n",
       "min         0.010000\n",
       "25%         0.030000\n",
       "50%         0.100000\n",
       "75%         0.350000\n",
       "max        14.630000\n",
       "Name: total_sales, dtype: float64"
      ]
     },
     "execution_count": 56,
     "metadata": {},
     "output_type": "execute_result"
    }
   ],
   "source": [
    "new_data['total_sales'].describe()"
   ]
  },
  {
   "cell_type": "code",
   "execution_count": 57,
   "metadata": {},
   "outputs": [
    {
     "data": {
      "text/html": [
       "<div>\n",
       "<style scoped>\n",
       "    .dataframe tbody tr th:only-of-type {\n",
       "        vertical-align: middle;\n",
       "    }\n",
       "\n",
       "    .dataframe tbody tr th {\n",
       "        vertical-align: top;\n",
       "    }\n",
       "\n",
       "    .dataframe thead th {\n",
       "        text-align: right;\n",
       "    }\n",
       "</style>\n",
       "<table border=\"1\" class=\"dataframe\">\n",
       "  <thead>\n",
       "    <tr style=\"text-align: right;\">\n",
       "      <th></th>\n",
       "      <th>platform</th>\n",
       "      <th>name</th>\n",
       "      <th>global_sales</th>\n",
       "    </tr>\n",
       "  </thead>\n",
       "  <tbody>\n",
       "    <tr>\n",
       "      <th>625</th>\n",
       "      <td>PS4</td>\n",
       "      <td>Call of Duty: Black Ops 3</td>\n",
       "      <td>14.63</td>\n",
       "    </tr>\n",
       "    <tr>\n",
       "      <th>712</th>\n",
       "      <td>PS4</td>\n",
       "      <td>Grand Theft Auto V</td>\n",
       "      <td>12.62</td>\n",
       "    </tr>\n",
       "    <tr>\n",
       "      <th>140</th>\n",
       "      <td>3DS</td>\n",
       "      <td>Pokemon Omega Ruby/Pokemon Alpha Sapphire</td>\n",
       "      <td>11.68</td>\n",
       "    </tr>\n",
       "    <tr>\n",
       "      <th>686</th>\n",
       "      <td>PS4</td>\n",
       "      <td>FIFA 16</td>\n",
       "      <td>8.58</td>\n",
       "    </tr>\n",
       "    <tr>\n",
       "      <th>869</th>\n",
       "      <td>PS4</td>\n",
       "      <td>Star Wars Battlefront (2015)</td>\n",
       "      <td>7.98</td>\n",
       "    </tr>\n",
       "  </tbody>\n",
       "</table>\n",
       "</div>"
      ],
      "text/plain": [
       "    platform                                       name  global_sales\n",
       "625      PS4                  Call of Duty: Black Ops 3         14.63\n",
       "712      PS4                         Grand Theft Auto V         12.62\n",
       "140      3DS  Pokemon Omega Ruby/Pokemon Alpha Sapphire         11.68\n",
       "686      PS4                                    FIFA 16          8.58\n",
       "869      PS4               Star Wars Battlefront (2015)          7.98"
      ]
     },
     "execution_count": 57,
     "metadata": {},
     "output_type": "execute_result"
    }
   ],
   "source": [
    "global_sales =new_data.groupby(['platform','name'])['total_sales'].sum().reset_index()\n",
    "global_sales.columns = ['platform', 'name', 'global_sales']\n",
    "global_sales.sort_values(by='global_sales', ascending=False).head()"
   ]
  },
  {
   "cell_type": "code",
   "execution_count": 58,
   "metadata": {},
   "outputs": [
    {
     "data": {
      "text/html": [
       "<div>\n",
       "<style scoped>\n",
       "    .dataframe tbody tr th:only-of-type {\n",
       "        vertical-align: middle;\n",
       "    }\n",
       "\n",
       "    .dataframe tbody tr th {\n",
       "        vertical-align: top;\n",
       "    }\n",
       "\n",
       "    .dataframe thead th {\n",
       "        text-align: right;\n",
       "    }\n",
       "</style>\n",
       "<table border=\"1\" class=\"dataframe\">\n",
       "  <thead>\n",
       "    <tr style=\"text-align: right;\">\n",
       "      <th></th>\n",
       "      <th>platform</th>\n",
       "      <th>global_sales</th>\n",
       "    </tr>\n",
       "  </thead>\n",
       "  <tbody>\n",
       "    <tr>\n",
       "      <th>3</th>\n",
       "      <td>PS4</td>\n",
       "      <td>288.15</td>\n",
       "    </tr>\n",
       "    <tr>\n",
       "      <th>9</th>\n",
       "      <td>XOne</td>\n",
       "      <td>140.36</td>\n",
       "    </tr>\n",
       "    <tr>\n",
       "      <th>0</th>\n",
       "      <td>3DS</td>\n",
       "      <td>86.68</td>\n",
       "    </tr>\n",
       "    <tr>\n",
       "      <th>2</th>\n",
       "      <td>PS3</td>\n",
       "      <td>68.18</td>\n",
       "    </tr>\n",
       "    <tr>\n",
       "      <th>8</th>\n",
       "      <td>X360</td>\n",
       "      <td>48.22</td>\n",
       "    </tr>\n",
       "  </tbody>\n",
       "</table>\n",
       "</div>"
      ],
      "text/plain": [
       "  platform  global_sales\n",
       "3      PS4        288.15\n",
       "9     XOne        140.36\n",
       "0      3DS         86.68\n",
       "2      PS3         68.18\n",
       "8     X360         48.22"
      ]
     },
     "execution_count": 58,
     "metadata": {},
     "output_type": "execute_result"
    }
   ],
   "source": [
    "global_sales =new_data.groupby(['platform'])['total_sales'].sum().reset_index()\n",
    "global_sales.columns = ['platform', 'global_sales']\n",
    "global_sales.sort_values(by='global_sales', ascending=False).head()"
   ]
  },
  {
   "cell_type": "code",
   "execution_count": 59,
   "metadata": {},
   "outputs": [
    {
     "data": {
      "text/plain": [
       "Text(0.5, 1.0, 'Global Sales by Platform')"
      ]
     },
     "execution_count": 59,
     "metadata": {},
     "output_type": "execute_result"
    },
    {
     "data": {
      "image/png": "[encoded data removed]",
      "text/plain": [
       "<Figure size 1440x720 with 1 Axes>"
      ]
     },
     "metadata": {
      "needs_background": "light"
     },
     "output_type": "display_data"
    }
   ],
   "source": [
    "plt.figure(figsize=(20,10))\n",
    "sns.boxplot(x='platform',y='total_sales',data=new_data, showfliers=False)\n",
    "plt.title('Global Sales by Platform', fontsize=18)"
   ]
  },
  {
   "cell_type": "markdown",
   "metadata": {},
   "source": [
    "Preliminary findings gleaned from the boxplot analysis reveal intriguing insights. It is evident that individual game titles have not amassed more than two purchases, indicating limited popularity or demand.. \n",
    "\n",
    "Notably, the analysis highlights the PS4 platform as exhibiting the highest degree of game variety, with notable instances of individuals acquiring over 200 games for this particular console. This affirms the robustness and breadth of the PS4 game library, potentially contributing to its enduring appeal among consumers."
   ]
  },
  {
   "cell_type": "markdown",
   "metadata": {},
   "source": [
    "### Conclusions\n",
    "\n",
    "To summarise what was written above here are our current findings from the dataset.\n",
    "\n",
    "- Nintendo sales follow a left-skewed distribution indicating that sales peak after 2006. The variance (4.3) is high though, which indicates a wider range of sales, which is understandable as Nintendo have the highest number of consoles spreading as far back as the 1980s.\n",
    "\n",
    "- Playstation sales have a more balanced distribution as their models were released approximetely every 6 years from the 90s. The varianced is lower (0.53) which suggests that differencial performance between playstation models.\n",
    "\n",
    "- Xbox sales have a similiar distribution to Nintendo as their game sales only came after 2000 with a variance of 1.24, there is wide range of sales of the last 20 years, however, there are only 3 consoles by Microsoft which keeps the variance at a lower position than Nintendo.\n",
    "\n",
    "In summary, the analysis reveals distinct sales patterns for Nintendo, PlayStation, and Xbox consoles. Nintendo's sales peaked after the release of the Nintendo Wii and advanced Game Boy consoles. PlayStation's sales grew consistently with each new console release, while further analysis is needed to fully understand Xbox sales. The variance of total sales shows that Nintendo has the widest range of sales figures.\n",
    "\n",
    "Our next steps:\n",
    "\n",
    "- look at the sales figures alongside user and critic reviews to determine whether reviews have impacts on the total number of sales."
   ]
  },
  {
   "cell_type": "markdown",
   "metadata": {},
   "source": [
    "## Popularity vs. Total Sales"
   ]
  },
  {
   "cell_type": "markdown",
   "metadata": {},
   "source": [
    "Displaying general information about the review columns to understand the distribution. "
   ]
  },
  {
   "cell_type": "code",
   "execution_count": 60,
   "metadata": {},
   "outputs": [
    {
     "data": {
      "image/png": "[encoded data removed]",
      "text/plain": [
       "<Figure size 720x432 with 1 Axes>"
      ]
     },
     "metadata": {
      "needs_background": "light"
     },
     "output_type": "display_data"
    }
   ],
   "source": [
    "# Check distribution of user reviews\n",
    "plt.figure(figsize=(10, 6))\n",
    "plt.hist(new_data['user_score'], bins=10, weights=new_data['user_score'], \n",
    "          density=True, color='pink', alpha=0.5, edgecolor='black')\n",
    "plt.title('User Review Histogram')\n",
    "plt.ylabel('frequency')\n",
    "plt.show()"
   ]
  },
  {
   "cell_type": "code",
   "execution_count": 61,
   "metadata": {},
   "outputs": [
    {
     "data": {
      "image/png": "[encoded data removed]",
      "text/plain": [
       "<Figure size 720x432 with 1 Axes>"
      ]
     },
     "metadata": {
      "needs_background": "light"
     },
     "output_type": "display_data"
    }
   ],
   "source": [
    "# check distribution of critic reviews\n",
    "plt.figure(figsize=(10, 6))\n",
    "plt.hist(new_data['critic_score'], bins=10, weights=new_data['critic_score'], \n",
    "          density=True, color='blue', alpha=0.5, edgecolor='black')\n",
    "plt.title('Critic Score Histogram')\n",
    "plt.ylabel('frequency')\n",
    "plt.show()"
   ]
  },
  {
   "cell_type": "code",
   "execution_count": 62,
   "metadata": {},
   "outputs": [
    {
     "data": {
      "text/html": [
       "<div>\n",
       "<style scoped>\n",
       "    .dataframe tbody tr th:only-of-type {\n",
       "        vertical-align: middle;\n",
       "    }\n",
       "\n",
       "    .dataframe tbody tr th {\n",
       "        vertical-align: top;\n",
       "    }\n",
       "\n",
       "    .dataframe thead th {\n",
       "        text-align: right;\n",
       "    }\n",
       "</style>\n",
       "<table border=\"1\" class=\"dataframe\">\n",
       "  <thead>\n",
       "    <tr style=\"text-align: right;\">\n",
       "      <th></th>\n",
       "      <th></th>\n",
       "      <th>med_critic_score</th>\n",
       "      <th>med_user_score</th>\n",
       "    </tr>\n",
       "    <tr>\n",
       "      <th>platform</th>\n",
       "      <th>name</th>\n",
       "      <th></th>\n",
       "      <th></th>\n",
       "    </tr>\n",
       "  </thead>\n",
       "  <tbody>\n",
       "    <tr>\n",
       "      <th rowspan=\"5\" valign=\"top\">3DS</th>\n",
       "      <th>7th Dragon III Code: VFD</th>\n",
       "      <td>77.0</td>\n",
       "      <td>8.2</td>\n",
       "    </tr>\n",
       "    <tr>\n",
       "      <th>A-Train: City Simulator</th>\n",
       "      <td>65.0</td>\n",
       "      <td>NaN</td>\n",
       "    </tr>\n",
       "    <tr>\n",
       "      <th>Adventure Time: The Secret of the Nameless Kingdom</th>\n",
       "      <td>65.0</td>\n",
       "      <td>5.6</td>\n",
       "    </tr>\n",
       "    <tr>\n",
       "      <th>Animal Crossing: Happy Home Designer</th>\n",
       "      <td>66.0</td>\n",
       "      <td>6.9</td>\n",
       "    </tr>\n",
       "    <tr>\n",
       "      <th>Azure Striker Gunvolt</th>\n",
       "      <td>77.0</td>\n",
       "      <td>8.4</td>\n",
       "    </tr>\n",
       "  </tbody>\n",
       "</table>\n",
       "</div>"
      ],
      "text/plain": [
       "                                                             med_critic_score  \\\n",
       "platform name                                                                   \n",
       "3DS      7th Dragon III Code: VFD                                        77.0   \n",
       "         A-Train: City Simulator                                         65.0   \n",
       "         Adventure Time: The Secret of the Nameless Kingdom              65.0   \n",
       "         Animal Crossing: Happy Home Designer                            66.0   \n",
       "         Azure Striker Gunvolt                                           77.0   \n",
       "\n",
       "                                                             med_user_score  \n",
       "platform name                                                                \n",
       "3DS      7th Dragon III Code: VFD                                       8.2  \n",
       "         A-Train: City Simulator                                        NaN  \n",
       "         Adventure Time: The Secret of the Nameless Kingdom             5.6  \n",
       "         Animal Crossing: Happy Home Designer                           6.9  \n",
       "         Azure Striker Gunvolt                                          8.4  "
      ]
     },
     "execution_count": 62,
     "metadata": {},
     "output_type": "execute_result"
    }
   ],
   "source": [
    "performance_table = pd.pivot_table(new_data, index=['platform','name'], \n",
    "                                   values=['user_score','critic_score'],\n",
    "                                  aggfunc=['median'])\n",
    "performance_table.columns = ['med_critic_score','med_user_score']\n",
    "performance_table.head()"
   ]
  },
  {
   "cell_type": "code",
   "execution_count": 63,
   "metadata": {},
   "outputs": [],
   "source": [
    "total_sales_platform = pd.pivot_table(new_data, index=['platform','name'], \n",
    "                                   values=['total_sales'],\n",
    "                                  aggfunc=['sum'])\n",
    "total_sales_platform.columns = ['total_sales']"
   ]
  },
  {
   "cell_type": "code",
   "execution_count": 64,
   "metadata": {},
   "outputs": [],
   "source": [
    "merged_reviews = pd.merge(left = performance_table, \n",
    "                          right = total_sales_platform,\n",
    "                         on=['platform','name'],\n",
    "                         how='left')"
   ]
  },
  {
   "cell_type": "code",
   "execution_count": 65,
   "metadata": {},
   "outputs": [
    {
     "data": {
      "text/html": [
       "<div>\n",
       "<style scoped>\n",
       "    .dataframe tbody tr th:only-of-type {\n",
       "        vertical-align: middle;\n",
       "    }\n",
       "\n",
       "    .dataframe tbody tr th {\n",
       "        vertical-align: top;\n",
       "    }\n",
       "\n",
       "    .dataframe thead th {\n",
       "        text-align: right;\n",
       "    }\n",
       "</style>\n",
       "<table border=\"1\" class=\"dataframe\">\n",
       "  <thead>\n",
       "    <tr style=\"text-align: right;\">\n",
       "      <th></th>\n",
       "      <th></th>\n",
       "      <th>med_critic_score</th>\n",
       "      <th>med_user_score</th>\n",
       "      <th>total_sales</th>\n",
       "    </tr>\n",
       "    <tr>\n",
       "      <th>platform</th>\n",
       "      <th>name</th>\n",
       "      <th></th>\n",
       "      <th></th>\n",
       "      <th></th>\n",
       "    </tr>\n",
       "  </thead>\n",
       "  <tbody>\n",
       "    <tr>\n",
       "      <th rowspan=\"5\" valign=\"top\">PS4</th>\n",
       "      <th>Grand Theft Auto V</th>\n",
       "      <td>97.0</td>\n",
       "      <td>8.3</td>\n",
       "      <td>12.62</td>\n",
       "    </tr>\n",
       "    <tr>\n",
       "      <th>FIFA 16</th>\n",
       "      <td>82.0</td>\n",
       "      <td>4.3</td>\n",
       "      <td>8.58</td>\n",
       "    </tr>\n",
       "    <tr>\n",
       "      <th>Call of Duty: Advanced Warfare</th>\n",
       "      <td>83.0</td>\n",
       "      <td>5.7</td>\n",
       "      <td>7.66</td>\n",
       "    </tr>\n",
       "    <tr>\n",
       "      <th>FIFA 17</th>\n",
       "      <td>85.0</td>\n",
       "      <td>5.0</td>\n",
       "      <td>7.60</td>\n",
       "    </tr>\n",
       "    <tr>\n",
       "      <th>Fallout 4</th>\n",
       "      <td>87.0</td>\n",
       "      <td>6.5</td>\n",
       "      <td>7.17</td>\n",
       "    </tr>\n",
       "    <tr>\n",
       "      <th>WiiU</th>\n",
       "      <th>Mario Kart 8</th>\n",
       "      <td>88.0</td>\n",
       "      <td>9.1</td>\n",
       "      <td>7.09</td>\n",
       "    </tr>\n",
       "    <tr>\n",
       "      <th rowspan=\"2\" valign=\"top\">PS4</th>\n",
       "      <th>FIFA 15</th>\n",
       "      <td>82.0</td>\n",
       "      <td>5.7</td>\n",
       "      <td>6.08</td>\n",
       "    </tr>\n",
       "    <tr>\n",
       "      <th>Destiny</th>\n",
       "      <td>76.0</td>\n",
       "      <td>6.1</td>\n",
       "      <td>5.64</td>\n",
       "    </tr>\n",
       "    <tr>\n",
       "      <th>XOne</th>\n",
       "      <th>Grand Theft Auto V</th>\n",
       "      <td>97.0</td>\n",
       "      <td>7.9</td>\n",
       "      <td>5.47</td>\n",
       "    </tr>\n",
       "    <tr>\n",
       "      <th>PS4</th>\n",
       "      <th>Uncharted 4: A Thief's End</th>\n",
       "      <td>93.0</td>\n",
       "      <td>7.9</td>\n",
       "      <td>5.39</td>\n",
       "    </tr>\n",
       "  </tbody>\n",
       "</table>\n",
       "</div>"
      ],
      "text/plain": [
       "                                         med_critic_score  med_user_score  \\\n",
       "platform name                                                               \n",
       "PS4      Grand Theft Auto V                          97.0             8.3   \n",
       "         FIFA 16                                     82.0             4.3   \n",
       "         Call of Duty: Advanced Warfare              83.0             5.7   \n",
       "         FIFA 17                                     85.0             5.0   \n",
       "         Fallout 4                                   87.0             6.5   \n",
       "WiiU     Mario Kart 8                                88.0             9.1   \n",
       "PS4      FIFA 15                                     82.0             5.7   \n",
       "         Destiny                                     76.0             6.1   \n",
       "XOne     Grand Theft Auto V                          97.0             7.9   \n",
       "PS4      Uncharted 4: A Thief's End                  93.0             7.9   \n",
       "\n",
       "                                         total_sales  \n",
       "platform name                                         \n",
       "PS4      Grand Theft Auto V                    12.62  \n",
       "         FIFA 16                                8.58  \n",
       "         Call of Duty: Advanced Warfare         7.66  \n",
       "         FIFA 17                                7.60  \n",
       "         Fallout 4                              7.17  \n",
       "WiiU     Mario Kart 8                           7.09  \n",
       "PS4      FIFA 15                                6.08  \n",
       "         Destiny                                5.64  \n",
       "XOne     Grand Theft Auto V                     5.47  \n",
       "PS4      Uncharted 4: A Thief's End             5.39  "
      ]
     },
     "execution_count": 65,
     "metadata": {},
     "output_type": "execute_result"
    }
   ],
   "source": [
    "top_10_sales_reviews = merged_reviews.sort_values(by='total_sales', ascending=False).head(10)\n",
    "top_10_sales_reviews"
   ]
  },
  {
   "cell_type": "code",
   "execution_count": 66,
   "metadata": {},
   "outputs": [
    {
     "data": {
      "text/html": [
       "<div>\n",
       "<style scoped>\n",
       "    .dataframe tbody tr th:only-of-type {\n",
       "        vertical-align: middle;\n",
       "    }\n",
       "\n",
       "    .dataframe tbody tr th {\n",
       "        vertical-align: top;\n",
       "    }\n",
       "\n",
       "    .dataframe thead th {\n",
       "        text-align: right;\n",
       "    }\n",
       "</style>\n",
       "<table border=\"1\" class=\"dataframe\">\n",
       "  <thead>\n",
       "    <tr style=\"text-align: right;\">\n",
       "      <th></th>\n",
       "      <th></th>\n",
       "      <th>med_critic_score</th>\n",
       "      <th>med_user_score</th>\n",
       "      <th>total_sales</th>\n",
       "    </tr>\n",
       "    <tr>\n",
       "      <th>platform</th>\n",
       "      <th>name</th>\n",
       "      <th></th>\n",
       "      <th></th>\n",
       "      <th></th>\n",
       "    </tr>\n",
       "  </thead>\n",
       "  <tbody>\n",
       "    <tr>\n",
       "      <th>PS4</th>\n",
       "      <th>Root Letter</th>\n",
       "      <td>69.0</td>\n",
       "      <td>7.5</td>\n",
       "      <td>0.01</td>\n",
       "    </tr>\n",
       "    <tr>\n",
       "      <th>XOne</th>\n",
       "      <th>Assetto Corsa</th>\n",
       "      <td>63.0</td>\n",
       "      <td>6.7</td>\n",
       "      <td>0.01</td>\n",
       "    </tr>\n",
       "    <tr>\n",
       "      <th>PC</th>\n",
       "      <th>Cities: Skylines Snowfall</th>\n",
       "      <td>72.0</td>\n",
       "      <td>7.1</td>\n",
       "      <td>0.01</td>\n",
       "    </tr>\n",
       "    <tr>\n",
       "      <th rowspan=\"2\" valign=\"top\">PSV</th>\n",
       "      <th>Xblaze: Lost Memories</th>\n",
       "      <td>NaN</td>\n",
       "      <td>7.0</td>\n",
       "      <td>0.01</td>\n",
       "    </tr>\n",
       "    <tr>\n",
       "      <th>SpongeBob: HeroPants</th>\n",
       "      <td>NaN</td>\n",
       "      <td>5.1</td>\n",
       "      <td>0.01</td>\n",
       "    </tr>\n",
       "    <tr>\n",
       "      <th>PS3</th>\n",
       "      <th>Don Bradman Cricket 14</th>\n",
       "      <td>73.0</td>\n",
       "      <td>6.9</td>\n",
       "      <td>0.01</td>\n",
       "    </tr>\n",
       "    <tr>\n",
       "      <th>PC</th>\n",
       "      <th>Battle Worlds: Kronos</th>\n",
       "      <td>71.0</td>\n",
       "      <td>7.1</td>\n",
       "      <td>0.01</td>\n",
       "    </tr>\n",
       "    <tr>\n",
       "      <th>PSV</th>\n",
       "      <th>MotoGP 14</th>\n",
       "      <td>NaN</td>\n",
       "      <td>7.5</td>\n",
       "      <td>0.01</td>\n",
       "    </tr>\n",
       "    <tr>\n",
       "      <th>XOne</th>\n",
       "      <th>Darksiders: Warmastered Edition</th>\n",
       "      <td>80.0</td>\n",
       "      <td>7.9</td>\n",
       "      <td>0.01</td>\n",
       "    </tr>\n",
       "    <tr>\n",
       "      <th>PSV</th>\n",
       "      <th>MLB 15: The Show</th>\n",
       "      <td>NaN</td>\n",
       "      <td>8.8</td>\n",
       "      <td>0.01</td>\n",
       "    </tr>\n",
       "  </tbody>\n",
       "</table>\n",
       "</div>"
      ],
      "text/plain": [
       "                                          med_critic_score  med_user_score  \\\n",
       "platform name                                                                \n",
       "PS4      Root Letter                                  69.0             7.5   \n",
       "XOne     Assetto Corsa                                63.0             6.7   \n",
       "PC       Cities: Skylines Snowfall                    72.0             7.1   \n",
       "PSV      Xblaze: Lost Memories                         NaN             7.0   \n",
       "         SpongeBob: HeroPants                          NaN             5.1   \n",
       "PS3      Don Bradman Cricket 14                       73.0             6.9   \n",
       "PC       Battle Worlds: Kronos                        71.0             7.1   \n",
       "PSV      MotoGP 14                                     NaN             7.5   \n",
       "XOne     Darksiders: Warmastered Edition              80.0             7.9   \n",
       "PSV      MLB 15: The Show                              NaN             8.8   \n",
       "\n",
       "                                          total_sales  \n",
       "platform name                                          \n",
       "PS4      Root Letter                             0.01  \n",
       "XOne     Assetto Corsa                           0.01  \n",
       "PC       Cities: Skylines Snowfall               0.01  \n",
       "PSV      Xblaze: Lost Memories                   0.01  \n",
       "         SpongeBob: HeroPants                    0.01  \n",
       "PS3      Don Bradman Cricket 14                  0.01  \n",
       "PC       Battle Worlds: Kronos                   0.01  \n",
       "PSV      MotoGP 14                               0.01  \n",
       "XOne     Darksiders: Warmastered Edition         0.01  \n",
       "PSV      MLB 15: The Show                        0.01  "
      ]
     },
     "execution_count": 66,
     "metadata": {},
     "output_type": "execute_result"
    }
   ],
   "source": [
    "bottom_10_sales_reviews = merged_reviews.sort_values(by='total_sales', ascending=True).head(10)\n",
    "bottom_10_sales_reviews"
   ]
  },
  {
   "cell_type": "markdown",
   "metadata": {},
   "source": [
    "Based on our analysis of the most popular games we will select 3 popular platforms and perform a scatter chart in order to determine the correlation between the professional reviews, user reviews and the number of sales.\n",
    "\n",
    "We will use:\n",
    "\n",
    "- XBOne\n",
    "- PS4\n",
    "- PC"
   ]
  },
  {
   "cell_type": "code",
   "execution_count": 67,
   "metadata": {},
   "outputs": [],
   "source": [
    "ps4 = new_data.query(\"platform == 'PS4'\")\n",
    "pc = new_data.query(\"platform == 'PC'\")\n",
    "xb = new_data.query(\"platform == 'XOne'\")"
   ]
  },
  {
   "cell_type": "code",
   "execution_count": 68,
   "metadata": {},
   "outputs": [
    {
     "data": {
      "text/plain": [
       "Text(0.5, 1.0, 'Relationship between Critic Score and Sales')"
      ]
     },
     "execution_count": 68,
     "metadata": {},
     "output_type": "execute_result"
    },
    {
     "data": {
      "image/png": "[encoded data removed]",
      "text/plain": [
       "<Figure size 1152x288 with 2 Axes>"
      ]
     },
     "metadata": {
      "needs_background": "light"
     },
     "output_type": "display_data"
    }
   ],
   "source": [
    "fig, axes = plt.subplots(1, 2, figsize=(16, 4))\n",
    "\n",
    "axes[0].scatter(new_data['user_score'], \n",
    "            new_data['total_sales'],\n",
    "            c='green',\n",
    "            marker='o')\n",
    "axes[0].set_xlabel('User Reviews and Sales')\n",
    "axes[0].set_ylabel('Sales')\n",
    "axes[0].set_title('Relationship between User Reviews and Sales')\n",
    "\n",
    "axes[1].scatter(new_data['critic_score'], \n",
    "            new_data['total_sales'],\n",
    "            c='blue',\n",
    "            marker='x')\n",
    "axes[1].set_xlabel('Critic Score and Sales')\n",
    "axes[1].set_ylabel('Sales')\n",
    "axes[1].set_title('Relationship between Critic Score and Sales')\n"
   ]
  },
  {
   "cell_type": "code",
   "execution_count": 69,
   "metadata": {},
   "outputs": [],
   "source": [
    "selected_columns = ['user_score', 'critic_score', 'total_sales']\n",
    "\n",
    "ps4_not_na = ps4[selected_columns].dropna()\n",
    "correlation_PS4 = ps4_not_na.corr()\n",
    "XB_not_na = xb[selected_columns].dropna()\n",
    "correlation_xb = XB_not_na.corr()\n",
    "pc_not_na = pc[selected_columns].dropna()\n",
    "correlation_pc = pc_not_na.corr()"
   ]
  },
  {
   "cell_type": "code",
   "execution_count": 70,
   "metadata": {},
   "outputs": [
    {
     "name": "stdout",
     "output_type": "stream",
     "text": [
      "ps4 correlation               user_score  critic_score  total_sales\n",
      "user_score      1.000000      0.546434    -0.043186\n",
      "critic_score    0.546434      1.000000     0.401903\n",
      "total_sales    -0.043186      0.401903     1.000000\n",
      "\n",
      "xbone correlation               user_score  critic_score  total_sales\n",
      "user_score      1.000000      0.440977    -0.091734\n",
      "critic_score    0.440977      1.000000     0.422112\n",
      "total_sales    -0.091734      0.422112     1.000000\n",
      "\n",
      "pc correlation               user_score  critic_score  total_sales\n",
      "user_score      1.000000      0.466099    -0.089974\n",
      "critic_score    0.466099      1.000000     0.172061\n",
      "total_sales    -0.089974      0.172061     1.000000\n"
     ]
    }
   ],
   "source": [
    "print(\"ps4 correlation\", correlation_PS4)\n",
    "print()\n",
    "print(\"xbone correlation\", correlation_xb)\n",
    "print()\n",
    "print(\"pc correlation\", correlation_pc)"
   ]
  },
  {
   "cell_type": "markdown",
   "metadata": {},
   "source": [
    "### Conclusions\n",
    "\n",
    "The correlation analysis reveals key insights regarding the impact of critic and user scores on total sales across the most impactful platforms (Playstation 4, Xbox One and Computer). Here are the key findings:\n",
    "\n",
    "- Both critic scores and user scores exhibit discernible associations with total sales, indicating their significance in influencing game sales performance.\n",
    "- Across the platforms, there is a moderate positive correlation between user scores and critic scores, suggesting a general alignment between the opinions of users and professional critics.\n",
    "- Xbox One stands out with a relatively stronger positive correlation between critic scores and total sales compared to the other platforms, implying that critic scores may have a greater influence on game sales for this platform.\n",
    "- While user scores also contribute to the sales performance, the analysis suggests that the opinions of professional critics may hold slightly more weight in impacting the overall sales figures.\n",
    "\n",
    "Overall, understanding the interplay between critic and user scores is crucial for game developers and publishers seeking to optimize sales strategies and cater to the preferences of both critics and users."
   ]
  },
  {
   "cell_type": "markdown",
   "metadata": {},
   "source": [
    "## Distribution of games by genre"
   ]
  },
  {
   "cell_type": "code",
   "execution_count": 71,
   "metadata": {},
   "outputs": [
    {
     "data": {
      "text/plain": [
       "array(['Sports', 'Platform', 'Racing', 'Role-Playing', 'Puzzle', 'Misc',\n",
       "       'Shooter', 'Simulation', 'Action', 'Fighting', 'Adventure',\n",
       "       'Strategy', nan], dtype=object)"
      ]
     },
     "execution_count": 71,
     "metadata": {},
     "output_type": "execute_result"
    }
   ],
   "source": [
    "df['genre'].unique()"
   ]
  },
  {
   "cell_type": "code",
   "execution_count": 72,
   "metadata": {},
   "outputs": [
    {
     "data": {
      "text/html": [
       "<div>\n",
       "<style scoped>\n",
       "    .dataframe tbody tr th:only-of-type {\n",
       "        vertical-align: middle;\n",
       "    }\n",
       "\n",
       "    .dataframe tbody tr th {\n",
       "        vertical-align: top;\n",
       "    }\n",
       "\n",
       "    .dataframe thead th {\n",
       "        text-align: right;\n",
       "    }\n",
       "</style>\n",
       "<table border=\"1\" class=\"dataframe\">\n",
       "  <thead>\n",
       "    <tr style=\"text-align: right;\">\n",
       "      <th></th>\n",
       "      <th>total_sales_genre</th>\n",
       "    </tr>\n",
       "    <tr>\n",
       "      <th>genre</th>\n",
       "      <th></th>\n",
       "    </tr>\n",
       "  </thead>\n",
       "  <tbody>\n",
       "    <tr>\n",
       "      <th>Action</th>\n",
       "      <td>199.36</td>\n",
       "    </tr>\n",
       "    <tr>\n",
       "      <th>Shooter</th>\n",
       "      <td>170.94</td>\n",
       "    </tr>\n",
       "    <tr>\n",
       "      <th>Sports</th>\n",
       "      <td>109.48</td>\n",
       "    </tr>\n",
       "    <tr>\n",
       "      <th>Role-Playing</th>\n",
       "      <td>101.44</td>\n",
       "    </tr>\n",
       "    <tr>\n",
       "      <th>Misc</th>\n",
       "      <td>37.55</td>\n",
       "    </tr>\n",
       "    <tr>\n",
       "      <th>Fighting</th>\n",
       "      <td>28.22</td>\n",
       "    </tr>\n",
       "    <tr>\n",
       "      <th>Racing</th>\n",
       "      <td>27.52</td>\n",
       "    </tr>\n",
       "    <tr>\n",
       "      <th>Platform</th>\n",
       "      <td>18.09</td>\n",
       "    </tr>\n",
       "    <tr>\n",
       "      <th>Adventure</th>\n",
       "      <td>17.55</td>\n",
       "    </tr>\n",
       "    <tr>\n",
       "      <th>Simulation</th>\n",
       "      <td>13.13</td>\n",
       "    </tr>\n",
       "    <tr>\n",
       "      <th>Strategy</th>\n",
       "      <td>3.96</td>\n",
       "    </tr>\n",
       "    <tr>\n",
       "      <th>Puzzle</th>\n",
       "      <td>2.21</td>\n",
       "    </tr>\n",
       "  </tbody>\n",
       "</table>\n",
       "</div>"
      ],
      "text/plain": [
       "              total_sales_genre\n",
       "genre                          \n",
       "Action                   199.36\n",
       "Shooter                  170.94\n",
       "Sports                   109.48\n",
       "Role-Playing             101.44\n",
       "Misc                      37.55\n",
       "Fighting                  28.22\n",
       "Racing                    27.52\n",
       "Platform                  18.09\n",
       "Adventure                 17.55\n",
       "Simulation                13.13\n",
       "Strategy                   3.96\n",
       "Puzzle                     2.21"
      ]
     },
     "execution_count": 72,
     "metadata": {},
     "output_type": "execute_result"
    }
   ],
   "source": [
    "games_by_genre = pd.pivot_table(new_data, index=['genre'], values=['total_sales'],aggfunc='sum')\n",
    "games_by_genre.columns = ['total_sales_genre']\n",
    "games_by_genre.sort_values(by='total_sales_genre', ascending=False)"
   ]
  },
  {
   "cell_type": "code",
   "execution_count": 73,
   "metadata": {},
   "outputs": [
    {
     "data": {
      "text/plain": [
       "Text(0.5, 1.0, 'Global Sales by Genre')"
      ]
     },
     "execution_count": 73,
     "metadata": {},
     "output_type": "execute_result"
    },
    {
     "data": {
      "image/png": "[encoded data removed]",
      "text/plain": [
       "<Figure size 1440x720 with 1 Axes>"
      ]
     },
     "metadata": {
      "needs_background": "light"
     },
     "output_type": "display_data"
    }
   ],
   "source": [
    "plt.figure(figsize=(20,10))\n",
    "sns.boxplot(x='genre',y='total_sales',data=new_data, showfliers=False)\n",
    "plt.title('Global Sales by Genre', fontsize=18)"
   ]
  },
  {
   "cell_type": "markdown",
   "metadata": {},
   "source": [
    "### Conclusions\n",
    "From observations we can determine that the key genres at Ice Gaming are sports, shooter and platform games. The games that had the most outliers tended to be the shooter games as there were more higher quantity sales."
   ]
  },
  {
   "cell_type": "markdown",
   "metadata": {},
   "source": [
    "## Regional Profiles\n",
    "\n",
    "### Sales by Region\n",
    "\n",
    "In this section, I conducted an analysis to determine various aspects of the gaming industry across different regions. Here is a summary of the steps I took and the findings:\n",
    "\n",
    "- Step 1: I created an informative bar chart showcasing the total sales, providing a broad overview of the data.\n",
    "\n",
    "- Step 2: I grouped the data by region and platform, identifying the top five platforms in each region. I examined the variations in market shares among these platforms across different regions, highlighting any notable differences.\n",
    "\n",
    "- Step 3: I merged the three separate dataframes representing the regions (NA, EU, JP) to create a comprehensive dataset.\n",
    "\n",
    "- Step 4: Utilizing the merged data, I calculated the percentage share of sales for each platform in the respective regions, enabling a more precise understanding of market distribution.\n",
    "\n",
    "- Step 5: To assess the impact of ESRB ratings on sales in individual regions, I grouped the data by rating and the three sales regions. I then calculated the percentage of sales associated with each rating in each region.\n",
    "\n",
    "- Step 6: Additionally, I grouped the data by genre and the three sales regions, calculating the percentage of sales for each genre in each region.\n",
    "\n",
    "Based on these analyses, I was able to identify and present the top five platforms and genres in each region. Furthermore, I explored the relationship between ESRB ratings and sales, offering insights into whether there were any discernible effects on sales in specific regions."
   ]
  },
  {
   "cell_type": "code",
   "execution_count": 74,
   "metadata": {},
   "outputs": [
    {
     "data": {
      "text/plain": [
       "Index(['name', 'platform', 'release_year', 'genre', 'na_sales', 'eu_sales',\n",
       "       'jp_sales', 'other_sales', 'critic_score', 'user_score', 'rating',\n",
       "       'platform_release', 'platform_company', 'total_sales'],\n",
       "      dtype='object')"
      ]
     },
     "execution_count": 74,
     "metadata": {},
     "output_type": "execute_result"
    }
   ],
   "source": [
    "new_data.columns"
   ]
  },
  {
   "cell_type": "code",
   "execution_count": 75,
   "metadata": {},
   "outputs": [
    {
     "data": {
      "text/plain": [
       "<matplotlib.legend.Legend at 0x7f4ff900aee0>"
      ]
     },
     "execution_count": 75,
     "metadata": {},
     "output_type": "execute_result"
    },
    {
     "data": {
      "image/png": "[encoded data removed]",
      "text/plain": [
       "<Figure size 720x432 with 1 Axes>"
      ]
     },
     "metadata": {
      "needs_background": "light"
     },
     "output_type": "display_data"
    }
   ],
   "source": [
    "top_platforms_sales = pd.pivot_table(new_data, index='platform', values=['jp_sales','na_sales','eu_sales'], aggfunc='sum')\n",
    "top_platforms_sales.columns = ['jp_sales','na_sales','eu_sales']\n",
    "top_platforms_sales.plot(kind='bar', alpha=0.5, color=['red', 'black', 'green'],figsize=(10,6), edgecolor='black', stacked=True)\n",
    "plt.grid(True, axis='y')\n",
    "plt.title('Top Platforms by Sales')\n",
    "plt.legend(['JP', 'NA', 'EU'])"
   ]
  },
  {
   "cell_type": "code",
   "execution_count": 76,
   "metadata": {},
   "outputs": [
    {
     "data": {
      "text/html": [
       "<div>\n",
       "<style scoped>\n",
       "    .dataframe tbody tr th:only-of-type {\n",
       "        vertical-align: middle;\n",
       "    }\n",
       "\n",
       "    .dataframe tbody tr th {\n",
       "        vertical-align: top;\n",
       "    }\n",
       "\n",
       "    .dataframe thead th {\n",
       "        text-align: right;\n",
       "    }\n",
       "</style>\n",
       "<table border=\"1\" class=\"dataframe\">\n",
       "  <thead>\n",
       "    <tr style=\"text-align: right;\">\n",
       "      <th></th>\n",
       "      <th>platform</th>\n",
       "      <th>na_sales</th>\n",
       "    </tr>\n",
       "  </thead>\n",
       "  <tbody>\n",
       "    <tr>\n",
       "      <th>3</th>\n",
       "      <td>PS4</td>\n",
       "      <td>98.61</td>\n",
       "    </tr>\n",
       "    <tr>\n",
       "      <th>9</th>\n",
       "      <td>XOne</td>\n",
       "      <td>81.27</td>\n",
       "    </tr>\n",
       "    <tr>\n",
       "      <th>8</th>\n",
       "      <td>X360</td>\n",
       "      <td>28.30</td>\n",
       "    </tr>\n",
       "    <tr>\n",
       "      <th>0</th>\n",
       "      <td>3DS</td>\n",
       "      <td>22.64</td>\n",
       "    </tr>\n",
       "    <tr>\n",
       "      <th>2</th>\n",
       "      <td>PS3</td>\n",
       "      <td>22.05</td>\n",
       "    </tr>\n",
       "  </tbody>\n",
       "</table>\n",
       "</div>"
      ],
      "text/plain": [
       "  platform  na_sales\n",
       "3      PS4     98.61\n",
       "9     XOne     81.27\n",
       "8     X360     28.30\n",
       "0      3DS     22.64\n",
       "2      PS3     22.05"
      ]
     },
     "execution_count": 76,
     "metadata": {},
     "output_type": "execute_result"
    }
   ],
   "source": [
    "na=new_data.groupby(['platform'])['na_sales'].sum().reset_index().sort_values(by='na_sales',ascending=False).head()\n",
    "na"
   ]
  },
  {
   "cell_type": "code",
   "execution_count": 77,
   "metadata": {},
   "outputs": [
    {
     "data": {
      "text/html": [
       "<div>\n",
       "<style scoped>\n",
       "    .dataframe tbody tr th:only-of-type {\n",
       "        vertical-align: middle;\n",
       "    }\n",
       "\n",
       "    .dataframe tbody tr th {\n",
       "        vertical-align: top;\n",
       "    }\n",
       "\n",
       "    .dataframe thead th {\n",
       "        text-align: right;\n",
       "    }\n",
       "</style>\n",
       "<table border=\"1\" class=\"dataframe\">\n",
       "  <thead>\n",
       "    <tr style=\"text-align: right;\">\n",
       "      <th></th>\n",
       "      <th>platform</th>\n",
       "      <th>jp_sales</th>\n",
       "    </tr>\n",
       "  </thead>\n",
       "  <tbody>\n",
       "    <tr>\n",
       "      <th>0</th>\n",
       "      <td>3DS</td>\n",
       "      <td>44.24</td>\n",
       "    </tr>\n",
       "    <tr>\n",
       "      <th>3</th>\n",
       "      <td>PS4</td>\n",
       "      <td>15.02</td>\n",
       "    </tr>\n",
       "    <tr>\n",
       "      <th>5</th>\n",
       "      <td>PSV</td>\n",
       "      <td>14.54</td>\n",
       "    </tr>\n",
       "    <tr>\n",
       "      <th>2</th>\n",
       "      <td>PS3</td>\n",
       "      <td>11.22</td>\n",
       "    </tr>\n",
       "    <tr>\n",
       "      <th>7</th>\n",
       "      <td>WiiU</td>\n",
       "      <td>7.31</td>\n",
       "    </tr>\n",
       "  </tbody>\n",
       "</table>\n",
       "</div>"
      ],
      "text/plain": [
       "  platform  jp_sales\n",
       "0      3DS     44.24\n",
       "3      PS4     15.02\n",
       "5      PSV     14.54\n",
       "2      PS3     11.22\n",
       "7     WiiU      7.31"
      ]
     },
     "execution_count": 77,
     "metadata": {},
     "output_type": "execute_result"
    }
   ],
   "source": [
    "jp=new_data.groupby(['platform'])['jp_sales'].sum().reset_index().sort_values(by='jp_sales',ascending=False).head()\n",
    "jp"
   ]
  },
  {
   "cell_type": "code",
   "execution_count": 78,
   "metadata": {},
   "outputs": [
    {
     "data": {
      "text/html": [
       "<div>\n",
       "<style scoped>\n",
       "    .dataframe tbody tr th:only-of-type {\n",
       "        vertical-align: middle;\n",
       "    }\n",
       "\n",
       "    .dataframe tbody tr th {\n",
       "        vertical-align: top;\n",
       "    }\n",
       "\n",
       "    .dataframe thead th {\n",
       "        text-align: right;\n",
       "    }\n",
       "</style>\n",
       "<table border=\"1\" class=\"dataframe\">\n",
       "  <thead>\n",
       "    <tr style=\"text-align: right;\">\n",
       "      <th></th>\n",
       "      <th>platform</th>\n",
       "      <th>eu_sales</th>\n",
       "    </tr>\n",
       "  </thead>\n",
       "  <tbody>\n",
       "    <tr>\n",
       "      <th>3</th>\n",
       "      <td>PS4</td>\n",
       "      <td>130.04</td>\n",
       "    </tr>\n",
       "    <tr>\n",
       "      <th>9</th>\n",
       "      <td>XOne</td>\n",
       "      <td>46.25</td>\n",
       "    </tr>\n",
       "    <tr>\n",
       "      <th>2</th>\n",
       "      <td>PS3</td>\n",
       "      <td>25.54</td>\n",
       "    </tr>\n",
       "    <tr>\n",
       "      <th>1</th>\n",
       "      <td>PC</td>\n",
       "      <td>17.97</td>\n",
       "    </tr>\n",
       "    <tr>\n",
       "      <th>0</th>\n",
       "      <td>3DS</td>\n",
       "      <td>16.12</td>\n",
       "    </tr>\n",
       "  </tbody>\n",
       "</table>\n",
       "</div>"
      ],
      "text/plain": [
       "  platform  eu_sales\n",
       "3      PS4    130.04\n",
       "9     XOne     46.25\n",
       "2      PS3     25.54\n",
       "1       PC     17.97\n",
       "0      3DS     16.12"
      ]
     },
     "execution_count": 78,
     "metadata": {},
     "output_type": "execute_result"
    }
   ],
   "source": [
    "eu=new_data.groupby(['platform'])['eu_sales'].sum().reset_index().sort_values(by='eu_sales',ascending=False).head()\n",
    "eu"
   ]
  },
  {
   "cell_type": "markdown",
   "metadata": {},
   "source": [
    "Before we looked at the total sales all together, now we will look at the total sales by region and country and determine which platforms are most popular by region. Based on the above chart we can determine that Europe is the biggest market for Ice's video game sales, followed by the Japenese market. The platforms with the most game sales were the Wii, Xbox 360 and Playstation consoles."
   ]
  },
  {
   "cell_type": "markdown",
   "metadata": {},
   "source": [
    "### Top genres by region"
   ]
  },
  {
   "cell_type": "code",
   "execution_count": 79,
   "metadata": {},
   "outputs": [
    {
     "data": {
      "text/html": [
       "<div>\n",
       "<style scoped>\n",
       "    .dataframe tbody tr th:only-of-type {\n",
       "        vertical-align: middle;\n",
       "    }\n",
       "\n",
       "    .dataframe tbody tr th {\n",
       "        vertical-align: top;\n",
       "    }\n",
       "\n",
       "    .dataframe thead th {\n",
       "        text-align: right;\n",
       "    }\n",
       "</style>\n",
       "<table border=\"1\" class=\"dataframe\">\n",
       "  <thead>\n",
       "    <tr style=\"text-align: right;\">\n",
       "      <th></th>\n",
       "      <th>eu_sales</th>\n",
       "      <th>jp_sales</th>\n",
       "      <th>na_sales</th>\n",
       "    </tr>\n",
       "    <tr>\n",
       "      <th>genre</th>\n",
       "      <th></th>\n",
       "      <th></th>\n",
       "      <th></th>\n",
       "    </tr>\n",
       "  </thead>\n",
       "  <tbody>\n",
       "    <tr>\n",
       "      <th>Action</th>\n",
       "      <td>74.68</td>\n",
       "      <td>29.58</td>\n",
       "      <td>72.53</td>\n",
       "    </tr>\n",
       "    <tr>\n",
       "      <th>Adventure</th>\n",
       "      <td>6.49</td>\n",
       "      <td>3.60</td>\n",
       "      <td>5.64</td>\n",
       "    </tr>\n",
       "    <tr>\n",
       "      <th>Fighting</th>\n",
       "      <td>6.69</td>\n",
       "      <td>6.37</td>\n",
       "      <td>12.43</td>\n",
       "    </tr>\n",
       "    <tr>\n",
       "      <th>Misc</th>\n",
       "      <td>12.86</td>\n",
       "      <td>5.61</td>\n",
       "      <td>15.05</td>\n",
       "    </tr>\n",
       "    <tr>\n",
       "      <th>Platform</th>\n",
       "      <td>6.80</td>\n",
       "      <td>2.69</td>\n",
       "      <td>6.79</td>\n",
       "    </tr>\n",
       "    <tr>\n",
       "      <th>Puzzle</th>\n",
       "      <td>0.52</td>\n",
       "      <td>0.93</td>\n",
       "      <td>0.65</td>\n",
       "    </tr>\n",
       "    <tr>\n",
       "      <th>Racing</th>\n",
       "      <td>14.13</td>\n",
       "      <td>1.76</td>\n",
       "      <td>8.74</td>\n",
       "    </tr>\n",
       "    <tr>\n",
       "      <th>Role-Playing</th>\n",
       "      <td>28.17</td>\n",
       "      <td>31.16</td>\n",
       "      <td>33.47</td>\n",
       "    </tr>\n",
       "    <tr>\n",
       "      <th>Shooter</th>\n",
       "      <td>65.52</td>\n",
       "      <td>4.87</td>\n",
       "      <td>79.02</td>\n",
       "    </tr>\n",
       "    <tr>\n",
       "      <th>Simulation</th>\n",
       "      <td>7.30</td>\n",
       "      <td>2.31</td>\n",
       "      <td>2.63</td>\n",
       "    </tr>\n",
       "    <tr>\n",
       "      <th>Sports</th>\n",
       "      <td>45.73</td>\n",
       "      <td>3.26</td>\n",
       "      <td>46.13</td>\n",
       "    </tr>\n",
       "    <tr>\n",
       "      <th>Strategy</th>\n",
       "      <td>1.79</td>\n",
       "      <td>0.95</td>\n",
       "      <td>0.98</td>\n",
       "    </tr>\n",
       "  </tbody>\n",
       "</table>\n",
       "</div>"
      ],
      "text/plain": [
       "              eu_sales  jp_sales  na_sales\n",
       "genre                                     \n",
       "Action           74.68     29.58     72.53\n",
       "Adventure         6.49      3.60      5.64\n",
       "Fighting          6.69      6.37     12.43\n",
       "Misc             12.86      5.61     15.05\n",
       "Platform          6.80      2.69      6.79\n",
       "Puzzle            0.52      0.93      0.65\n",
       "Racing           14.13      1.76      8.74\n",
       "Role-Playing     28.17     31.16     33.47\n",
       "Shooter          65.52      4.87     79.02\n",
       "Simulation        7.30      2.31      2.63\n",
       "Sports           45.73      3.26     46.13\n",
       "Strategy          1.79      0.95      0.98"
      ]
     },
     "execution_count": 79,
     "metadata": {},
     "output_type": "execute_result"
    }
   ],
   "source": [
    "top_genres_region = pd.pivot_table(new_data, index='genre', values=['jp_sales','na_sales','eu_sales'], aggfunc='sum')\n",
    "top_genres_region"
   ]
  },
  {
   "cell_type": "code",
   "execution_count": 80,
   "metadata": {},
   "outputs": [
    {
     "data": {
      "text/html": [
       "<div>\n",
       "<style scoped>\n",
       "    .dataframe tbody tr th:only-of-type {\n",
       "        vertical-align: middle;\n",
       "    }\n",
       "\n",
       "    .dataframe tbody tr th {\n",
       "        vertical-align: top;\n",
       "    }\n",
       "\n",
       "    .dataframe thead th {\n",
       "        text-align: right;\n",
       "    }\n",
       "</style>\n",
       "<table border=\"1\" class=\"dataframe\">\n",
       "  <thead>\n",
       "    <tr style=\"text-align: right;\">\n",
       "      <th></th>\n",
       "      <th>eu_sales</th>\n",
       "      <th>jp_sales</th>\n",
       "      <th>na_sales</th>\n",
       "      <th>jp_sales%</th>\n",
       "      <th>na_sales%</th>\n",
       "      <th>eu_sales%</th>\n",
       "    </tr>\n",
       "    <tr>\n",
       "      <th>genre</th>\n",
       "      <th></th>\n",
       "      <th></th>\n",
       "      <th></th>\n",
       "      <th></th>\n",
       "      <th></th>\n",
       "      <th></th>\n",
       "    </tr>\n",
       "  </thead>\n",
       "  <tbody>\n",
       "    <tr>\n",
       "      <th>Action</th>\n",
       "      <td>74.68</td>\n",
       "      <td>29.58</td>\n",
       "      <td>72.53</td>\n",
       "      <td>0.317757</td>\n",
       "      <td>0.255333</td>\n",
       "      <td>0.275898</td>\n",
       "    </tr>\n",
       "    <tr>\n",
       "      <th>Adventure</th>\n",
       "      <td>6.49</td>\n",
       "      <td>3.60</td>\n",
       "      <td>5.64</td>\n",
       "      <td>0.038672</td>\n",
       "      <td>0.019855</td>\n",
       "      <td>0.023977</td>\n",
       "    </tr>\n",
       "    <tr>\n",
       "      <th>Fighting</th>\n",
       "      <td>6.69</td>\n",
       "      <td>6.37</td>\n",
       "      <td>12.43</td>\n",
       "      <td>0.068428</td>\n",
       "      <td>0.043758</td>\n",
       "      <td>0.024716</td>\n",
       "    </tr>\n",
       "    <tr>\n",
       "      <th>Misc</th>\n",
       "      <td>12.86</td>\n",
       "      <td>5.61</td>\n",
       "      <td>15.05</td>\n",
       "      <td>0.060264</td>\n",
       "      <td>0.052982</td>\n",
       "      <td>0.047510</td>\n",
       "    </tr>\n",
       "    <tr>\n",
       "      <th>Platform</th>\n",
       "      <td>6.80</td>\n",
       "      <td>2.69</td>\n",
       "      <td>6.79</td>\n",
       "      <td>0.028897</td>\n",
       "      <td>0.023903</td>\n",
       "      <td>0.025122</td>\n",
       "    </tr>\n",
       "    <tr>\n",
       "      <th>Puzzle</th>\n",
       "      <td>0.52</td>\n",
       "      <td>0.93</td>\n",
       "      <td>0.65</td>\n",
       "      <td>0.009990</td>\n",
       "      <td>0.002288</td>\n",
       "      <td>0.001921</td>\n",
       "    </tr>\n",
       "    <tr>\n",
       "      <th>Racing</th>\n",
       "      <td>14.13</td>\n",
       "      <td>1.76</td>\n",
       "      <td>8.74</td>\n",
       "      <td>0.018906</td>\n",
       "      <td>0.030768</td>\n",
       "      <td>0.052202</td>\n",
       "    </tr>\n",
       "    <tr>\n",
       "      <th>Role-Playing</th>\n",
       "      <td>28.17</td>\n",
       "      <td>31.16</td>\n",
       "      <td>33.47</td>\n",
       "      <td>0.334730</td>\n",
       "      <td>0.117827</td>\n",
       "      <td>0.104071</td>\n",
       "    </tr>\n",
       "    <tr>\n",
       "      <th>Shooter</th>\n",
       "      <td>65.52</td>\n",
       "      <td>4.87</td>\n",
       "      <td>79.02</td>\n",
       "      <td>0.052315</td>\n",
       "      <td>0.278181</td>\n",
       "      <td>0.242057</td>\n",
       "    </tr>\n",
       "    <tr>\n",
       "      <th>Simulation</th>\n",
       "      <td>7.30</td>\n",
       "      <td>2.31</td>\n",
       "      <td>2.63</td>\n",
       "      <td>0.024815</td>\n",
       "      <td>0.009259</td>\n",
       "      <td>0.026969</td>\n",
       "    </tr>\n",
       "    <tr>\n",
       "      <th>Sports</th>\n",
       "      <td>45.73</td>\n",
       "      <td>3.26</td>\n",
       "      <td>46.13</td>\n",
       "      <td>0.035020</td>\n",
       "      <td>0.162395</td>\n",
       "      <td>0.168945</td>\n",
       "    </tr>\n",
       "    <tr>\n",
       "      <th>Strategy</th>\n",
       "      <td>1.79</td>\n",
       "      <td>0.95</td>\n",
       "      <td>0.98</td>\n",
       "      <td>0.010205</td>\n",
       "      <td>0.003450</td>\n",
       "      <td>0.006613</td>\n",
       "    </tr>\n",
       "  </tbody>\n",
       "</table>\n",
       "</div>"
      ],
      "text/plain": [
       "              eu_sales  jp_sales  na_sales  jp_sales%  na_sales%  eu_sales%\n",
       "genre                                                                      \n",
       "Action           74.68     29.58     72.53   0.317757   0.255333   0.275898\n",
       "Adventure         6.49      3.60      5.64   0.038672   0.019855   0.023977\n",
       "Fighting          6.69      6.37     12.43   0.068428   0.043758   0.024716\n",
       "Misc             12.86      5.61     15.05   0.060264   0.052982   0.047510\n",
       "Platform          6.80      2.69      6.79   0.028897   0.023903   0.025122\n",
       "Puzzle            0.52      0.93      0.65   0.009990   0.002288   0.001921\n",
       "Racing           14.13      1.76      8.74   0.018906   0.030768   0.052202\n",
       "Role-Playing     28.17     31.16     33.47   0.334730   0.117827   0.104071\n",
       "Shooter          65.52      4.87     79.02   0.052315   0.278181   0.242057\n",
       "Simulation        7.30      2.31      2.63   0.024815   0.009259   0.026969\n",
       "Sports           45.73      3.26     46.13   0.035020   0.162395   0.168945\n",
       "Strategy          1.79      0.95      0.98   0.010205   0.003450   0.006613"
      ]
     },
     "execution_count": 80,
     "metadata": {},
     "output_type": "execute_result"
    }
   ],
   "source": [
    "top_genres_region['jp_sales%'] = top_genres_region['jp_sales'] / top_genres_region['jp_sales'].sum()\n",
    "top_genres_region['na_sales%'] = top_genres_region['na_sales'] / top_genres_region['na_sales'].sum()\n",
    "top_genres_region['eu_sales%'] = top_genres_region['eu_sales'] / top_genres_region['eu_sales'].sum()                                                                  \n",
    "top_genres_region"
   ]
  },
  {
   "cell_type": "code",
   "execution_count": 81,
   "metadata": {},
   "outputs": [
    {
     "data": {
      "image/png": "[encoded data removed]",
      "text/plain": [
       "<Figure size 864x288 with 3 Axes>"
      ]
     },
     "metadata": {},
     "output_type": "display_data"
    }
   ],
   "source": [
    "fig, axes = plt.subplots(1, 3, figsize=(12, 4))\n",
    "\n",
    "axes[0].pie(top_genres_region['na_sales'], labels=top_genres_region.index)\n",
    "axes[0].set_title('North America')\n",
    "\n",
    "axes[1].pie(top_genres_region['jp_sales'], labels=top_genres_region.index)\n",
    "axes[1].set_title('Japan')\n",
    "\n",
    "axes[2].pie(top_genres_region['eu_sales'], labels=top_genres_region.index)\n",
    "axes[2].set_title('Europe')\n",
    "\n",
    "plt.rcParams.update({'font.size': 8})\n",
    "plt.tight_layout(pad=1)"
   ]
  },
  {
   "cell_type": "markdown",
   "metadata": {},
   "source": [
    "### ESRB Rating by Region"
   ]
  },
  {
   "cell_type": "code",
   "execution_count": 82,
   "metadata": {},
   "outputs": [
    {
     "data": {
      "text/html": [
       "<div>\n",
       "<style scoped>\n",
       "    .dataframe tbody tr th:only-of-type {\n",
       "        vertical-align: middle;\n",
       "    }\n",
       "\n",
       "    .dataframe tbody tr th {\n",
       "        vertical-align: top;\n",
       "    }\n",
       "\n",
       "    .dataframe thead th {\n",
       "        text-align: right;\n",
       "    }\n",
       "</style>\n",
       "<table border=\"1\" class=\"dataframe\">\n",
       "  <thead>\n",
       "    <tr style=\"text-align: right;\">\n",
       "      <th></th>\n",
       "      <th>eu_sales</th>\n",
       "      <th>jp_sales</th>\n",
       "      <th>na_sales</th>\n",
       "      <th>jp_sales%</th>\n",
       "      <th>na_sales%</th>\n",
       "      <th>eu_sales%</th>\n",
       "    </tr>\n",
       "    <tr>\n",
       "      <th>rating</th>\n",
       "      <th></th>\n",
       "      <th></th>\n",
       "      <th></th>\n",
       "      <th></th>\n",
       "      <th></th>\n",
       "      <th></th>\n",
       "    </tr>\n",
       "  </thead>\n",
       "  <tbody>\n",
       "    <tr>\n",
       "      <th>E</th>\n",
       "      <td>58.06</td>\n",
       "      <td>8.94</td>\n",
       "      <td>50.74</td>\n",
       "      <td>0.096036</td>\n",
       "      <td>0.178624</td>\n",
       "      <td>0.214497</td>\n",
       "    </tr>\n",
       "    <tr>\n",
       "      <th>E10+</th>\n",
       "      <td>26.16</td>\n",
       "      <td>4.46</td>\n",
       "      <td>33.23</td>\n",
       "      <td>0.047911</td>\n",
       "      <td>0.116982</td>\n",
       "      <td>0.096645</td>\n",
       "    </tr>\n",
       "    <tr>\n",
       "      <th>M</th>\n",
       "      <td>93.44</td>\n",
       "      <td>8.01</td>\n",
       "      <td>96.42</td>\n",
       "      <td>0.086046</td>\n",
       "      <td>0.339435</td>\n",
       "      <td>0.345205</td>\n",
       "    </tr>\n",
       "    <tr>\n",
       "      <th>T</th>\n",
       "      <td>34.07</td>\n",
       "      <td>14.78</td>\n",
       "      <td>38.95</td>\n",
       "      <td>0.158771</td>\n",
       "      <td>0.137119</td>\n",
       "      <td>0.125868</td>\n",
       "    </tr>\n",
       "    <tr>\n",
       "      <th>unknown</th>\n",
       "      <td>58.95</td>\n",
       "      <td>56.90</td>\n",
       "      <td>64.72</td>\n",
       "      <td>0.611236</td>\n",
       "      <td>0.227839</td>\n",
       "      <td>0.217785</td>\n",
       "    </tr>\n",
       "  </tbody>\n",
       "</table>\n",
       "</div>"
      ],
      "text/plain": [
       "         eu_sales  jp_sales  na_sales  jp_sales%  na_sales%  eu_sales%\n",
       "rating                                                                \n",
       "E           58.06      8.94     50.74   0.096036   0.178624   0.214497\n",
       "E10+        26.16      4.46     33.23   0.047911   0.116982   0.096645\n",
       "M           93.44      8.01     96.42   0.086046   0.339435   0.345205\n",
       "T           34.07     14.78     38.95   0.158771   0.137119   0.125868\n",
       "unknown     58.95     56.90     64.72   0.611236   0.227839   0.217785"
      ]
     },
     "execution_count": 82,
     "metadata": {},
     "output_type": "execute_result"
    }
   ],
   "source": [
    "rating_region = pd.pivot_table(new_data, index='rating', values=['jp_sales','na_sales','eu_sales'], aggfunc='sum')\n",
    "rating_region['jp_sales%'] = rating_region['jp_sales'] / rating_region['jp_sales'].sum()\n",
    "rating_region['na_sales%'] = rating_region['na_sales'] / rating_region['na_sales'].sum()\n",
    "rating_region['eu_sales%'] = rating_region['eu_sales'] / rating_region['eu_sales'].sum()\n",
    "rating_region"
   ]
  },
  {
   "cell_type": "code",
   "execution_count": 83,
   "metadata": {},
   "outputs": [
    {
     "data": {
      "image/png": "[encoded data removed]",
      "text/plain": [
       "<Figure size 864x288 with 3 Axes>"
      ]
     },
     "metadata": {},
     "output_type": "display_data"
    }
   ],
   "source": [
    "fig, axes = plt.subplots(1, 3, figsize=(12, 4), subplot_kw=dict(aspect=\"equal\"))\n",
    "\n",
    "axes[0].pie(rating_region['na_sales'], labels=rating_region.index)\n",
    "axes[0].set_title('North America')\n",
    "\n",
    "axes[1].pie(rating_region['jp_sales'], labels=rating_region.index)\n",
    "axes[1].set_title('Japan')\n",
    "\n",
    "axes[2].pie(rating_region['eu_sales'], labels=rating_region.index)\n",
    "axes[2].set_title('Europe')\n",
    "\n",
    "plt.rcParams.update({'font.size': 12})\n",
    "plt.tight_layout(pad=5)"
   ]
  },
  {
   "cell_type": "markdown",
   "metadata": {},
   "source": [
    "## Testing Hypothesis\n",
    "\n",
    "### Average user ratings of the Xbox One and PC platforms are the same."
   ]
  },
  {
   "cell_type": "code",
   "execution_count": 84,
   "metadata": {},
   "outputs": [
    {
     "data": {
      "text/plain": [
       "array(['PS4', '3DS', 'XOne', 'WiiU', 'PS3', 'X360', 'PC', 'Wii', 'PSV',\n",
       "       'PSP'], dtype=object)"
      ]
     },
     "execution_count": 84,
     "metadata": {},
     "output_type": "execute_result"
    }
   ],
   "source": [
    "new_data['platform'].unique()"
   ]
  },
  {
   "cell_type": "code",
   "execution_count": 85,
   "metadata": {},
   "outputs": [
    {
     "name": "stdout",
     "output_type": "stream",
     "text": [
      "<class 'pandas.core.frame.DataFrame'>\n",
      "Int64Index: 1689 entries, 31 to 16714\n",
      "Data columns (total 14 columns):\n",
      " #   Column            Non-Null Count  Dtype  \n",
      "---  ------            --------------  -----  \n",
      " 0   name              1689 non-null   object \n",
      " 1   platform          1689 non-null   object \n",
      " 2   release_year      1689 non-null   float64\n",
      " 3   genre             1689 non-null   object \n",
      " 4   na_sales          1689 non-null   float64\n",
      " 5   eu_sales          1689 non-null   float64\n",
      " 6   jp_sales          1689 non-null   float64\n",
      " 7   other_sales       1689 non-null   float64\n",
      " 8   critic_score      718 non-null    float64\n",
      " 9   user_score        888 non-null    float64\n",
      " 10  rating            1689 non-null   object \n",
      " 11  platform_release  1689 non-null   float64\n",
      " 12  platform_company  1689 non-null   object \n",
      " 13  total_sales       1689 non-null   float64\n",
      "dtypes: float64(9), object(5)\n",
      "memory usage: 262.5+ KB\n"
     ]
    }
   ],
   "source": [
    "new_data.info()"
   ]
  },
  {
   "cell_type": "code",
   "execution_count": 86,
   "metadata": {},
   "outputs": [],
   "source": [
    "review_only = new_data.dropna(subset=['user_score'])"
   ]
  },
  {
   "cell_type": "code",
   "execution_count": 87,
   "metadata": {},
   "outputs": [],
   "source": [
    "computer_review = review_only.loc[df['platform'] == 'PC','user_score']\n",
    "xbox_review = review_only.loc[df['platform'] == 'XOne', 'user_score']"
   ]
  },
  {
   "cell_type": "code",
   "execution_count": 88,
   "metadata": {},
   "outputs": [
    {
     "data": {
      "text/plain": [
       "165      7.9\n",
       "179      5.4\n",
       "242      6.4\n",
       "270      6.2\n",
       "373      4.1\n",
       "        ... \n",
       "16544    6.8\n",
       "16597    6.0\n",
       "16630    8.2\n",
       "16643    6.6\n",
       "16660    6.7\n",
       "Name: user_score, Length: 165, dtype: float64"
      ]
     },
     "execution_count": 88,
     "metadata": {},
     "output_type": "execute_result"
    }
   ],
   "source": [
    "xbox_review"
   ]
  },
  {
   "cell_type": "code",
   "execution_count": 89,
   "metadata": {},
   "outputs": [
    {
     "data": {
      "text/plain": [
       "458     3.9\n",
       "1530    5.4\n",
       "1730    7.9\n",
       "2303    5.7\n",
       "2784    5.9\n",
       "Name: user_score, dtype: float64"
      ]
     },
     "execution_count": 89,
     "metadata": {},
     "output_type": "execute_result"
    }
   ],
   "source": [
    "computer_review.head()"
   ]
  },
  {
   "cell_type": "code",
   "execution_count": 90,
   "metadata": {
    "scrolled": true
   },
   "outputs": [
    {
     "name": "stdout",
     "output_type": "stream",
     "text": [
      "p-value: 0.10450507919348415\n",
      "We can't reject the null hypothesis.\n"
     ]
    }
   ],
   "source": [
    "null_hypothesis = \"Average user ratings of the Xbox One and PC platforms are the same.\"\n",
    "alternative_hypothesis = \"The average ratings for xbox and pc are different.\"\n",
    "\n",
    "alpha = 0.05\n",
    "\n",
    "results = stats.ttest_ind(xbox_review, computer_review)\n",
    "\n",
    "print('p-value:', results.pvalue)\n",
    "\n",
    "if results.pvalue < alpha:\n",
    "    print('We reject the null hypothesis.')\n",
    "else:\n",
    "    print(\"We can't reject the null hypothesis.\")"
   ]
  },
  {
   "cell_type": "markdown",
   "metadata": {},
   "source": [
    "### Average user ratings for the action and sports genres are different."
   ]
  },
  {
   "cell_type": "code",
   "execution_count": 91,
   "metadata": {},
   "outputs": [
    {
     "data": {
      "text/plain": [
       "array(['Sports', 'Platform', 'Racing', 'Role-Playing', 'Puzzle', 'Misc',\n",
       "       'Shooter', 'Simulation', 'Action', 'Fighting', 'Adventure',\n",
       "       'Strategy', nan], dtype=object)"
      ]
     },
     "execution_count": 91,
     "metadata": {},
     "output_type": "execute_result"
    }
   ],
   "source": [
    "df['genre'].unique()"
   ]
  },
  {
   "cell_type": "code",
   "execution_count": 92,
   "metadata": {},
   "outputs": [],
   "source": [
    "action = review_only.loc[df['genre'] == 'Action','user_score']\n",
    "sports = review_only.loc[df['genre'] == 'Sports', 'user_score']"
   ]
  },
  {
   "cell_type": "code",
   "execution_count": 93,
   "metadata": {},
   "outputs": [
    {
     "name": "stdout",
     "output_type": "stream",
     "text": [
      "p-value: 2.8711147985105864e-19\n",
      "We reject the null hypothesis.\n"
     ]
    }
   ],
   "source": [
    "null_hypothesis = \" Average user ratings for the action and aports genres are different.\"\n",
    "alternative_hypothesis = \"The average ratings for action and sports genres are the same.\"\n",
    "\n",
    "alpha = 0.05\n",
    "\n",
    "results = stats.ttest_ind(sports, action)\n",
    "\n",
    "print('p-value:', results.pvalue)\n",
    "\n",
    "if results.pvalue < alpha:\n",
    "    print('We reject the null hypothesis.')\n",
    "else:\n",
    "    print(\"We can't reject the null hypothesis.\")"
   ]
  },
  {
   "cell_type": "markdown",
   "metadata": {},
   "source": [
    "### Statistical Analysis\n",
    "\n",
    "Based on the statistical analysis conducted with a p-value of 0.1045, we are unable to reject the null hypothesis, which posits that the average user ratings of the Xbox One and PC platforms are equivalent. \n",
    "\n",
    "Consequently, there is insufficient compelling evidence to indicate any significant disparity in the average ratings between Xbox and PC. Further investigation may be warranted to explore additional factors that could influence user ratings.\n",
    "\n",
    "Moreover, the statistical test of hypothesis two resulted in a p-value of 2.87 indicated that we can reject the null hypothesis because the user ratings for both genres are the same."
   ]
  },
  {
   "cell_type": "markdown",
   "metadata": {},
   "source": [
    "## Summary of Key Findings\n",
    "\n",
    "The correlation analysis conducted on the dataset provides ICE Gaming with valuable insights into the influence of critic and user scores on total sales across prominent gaming platforms. \n",
    "\n",
    "Key findings reveal that both critic scores and user scores exhibit discernible associations with total sales, indicating their significance in driving game sales performance. Additionally, there is a moderate positive correlation between user scores and critic scores across the platforms, suggesting a general alignment between user opinions and professional critics.\n",
    "\n",
    "After sampling the data, among the most popular platforms, Xbox One stands out with a relatively stronger positive correlation between critic scores and total sales, indicating that critic scores may have a greater impact on game sales for this platform. \n",
    "\n",
    "While user scores also contribute to sales performance, our analysis suggests that professional critics' opinions may carry slightly more weight in influencing overall sales figures. Understanding the interplay between critic and user scores is crucial for game developers and publishers seeking to optimize sales strategies and cater to the preferences of both critics and users. By considering these insights, ICE stakeholders will be able to make decisions regarding marketing campaigns and future procurement.\n",
    "\n",
    "Furthermore, an analysis of sales patterns across different consoles reveals distinct trends. Nintendo's sales peaked after the release of the Nintendo Wii and advanced Game Boy consoles, while PlayStation's sales demonstrated consistent growth with each new console release. It is also noteworthy that Nintendo exhibits the widest range of sales figures, indicated by a higher variance in total sales, thus emphasising that a consoles lifespan isn't long and that innovation is critical for gaming providers and retailers alike. There is no point sitting on a warehouse full of stock if no one is buying the console anymore.\n",
    "\n",
    "### Recommendations for future growth:\n",
    "\n",
    "1. Leveraging Critic Scores: ICE should ensure that critic scores are used in there marketing campaigns for games and they must be placed on POS material instore and online.\n",
    "\n",
    "2. Understanding User Opinions: While critic scores hold influence, user opinions are also crucial in shaping sales. It is recommended that ICE actively engage with the gaming community, gather user feedback. This will help to increase the sales potential when new games are released.\n",
    "\n",
    "3. Console-Specific Strategies: Considering the unique sales patterns of each platform, ICE should tailor their marketing and promotional efforts to target specific console audiences. This includes highlighting console-exclusive features, leveraging platform-specific marketing channels, and adapting game designs to match the preferences of each platform's user base.\n",
    "\n",
    "In conclusion, the analysis highlights the significance of critic and user scores in influencing game sales performance across different gaming platforms. Understanding these dynamics, ICE can make informed decisions, leverage critic scores, engage with users, and devise console-specific strategies to maximize sales potential. By incorporating these recommendations, ICE can enhance their market position and capitalize on the preferences of both critics and users in the competitive gaming industry."
   ]
  }
 ],
 "metadata": {
  "kernelspec": {
   "display_name": "Python 3 (ipykernel)",
   "language": "python",
   "name": "python3"
  },
  "language_info": {
   "codemirror_mode": {
    "name": "ipython",
    "version": 3
   },
   "file_extension": ".py",
   "mimetype": "text/x-python",
   "name": "python",
   "nbconvert_exporter": "python",
   "pygments_lexer": "ipython3",
   "version": "3.9.5"
  },
  "toc": {
   "base_numbering": 1,
   "nav_menu": {
    "height": "387px",
    "width": "322px"
   },
   "number_sections": true,
   "sideBar": true,
   "skip_h1_title": true,
   "title_cell": "Table of Contents",
   "title_sidebar": "Contents",
   "toc_cell": false,
   "toc_position": {},
   "toc_section_display": true,
   "toc_window_display": false
  }
 },
 "nbformat": 4,
 "nbformat_minor": 2
}
